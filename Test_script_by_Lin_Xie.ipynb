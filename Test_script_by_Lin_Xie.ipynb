{
  "cells": [
    {
      "cell_type": "markdown",
      "source": [
        "# INTRODUCTION"
      ],
      "metadata": {
        "id": "O4Swz1o8npBs"
      },
      "id": "O4Swz1o8npBs"
    },
    {
      "cell_type": "markdown",
      "source": [
        "A mega-online shopping mall provides different baby brands to customers. In order to optimize online advertisements throughout websites, they want to predict the view-to-click probability given the information below.\n",
        "\n",
        "The data consists of:\n",
        "\n",
        "Action: the “interaction” that users completed when online ad was exposed. There are two types of actions in this dataset, View (a.k.a Impression) or Click. (Reference: https://en.wikipedia.org/wiki/Impression_(online_media))\n",
        "ID: unique user IDs\n",
        "Action Time: the time when action (View/Click) happened, in microseconds format\n",
        "Website: the website where the ad was published\n",
        "Banner Size: the banner size of ad\n",
        "Brand: the brand name that the ad was promoting\n",
        "Colour: the colour of product showcased in the ad\n",
        "Interaction Time: user’s interaction time with each ad (sec)\n",
        "\n",
        "Goal: Predict the Likelihood of Click"
      ],
      "metadata": {
        "id": "khWdk5pUnv7M"
      },
      "id": "khWdk5pUnv7M"
    },
    {
      "cell_type": "code",
      "source": [
        "from google.colab import drive\n",
        "drive.mount('/content/drive')"
      ],
      "metadata": {
        "colab": {
          "base_uri": "https://localhost:8080/"
        },
        "id": "fscYB-A8ReL-",
        "outputId": "c7f5df1f-50c0-4e5b-e010-d776eb3455f5"
      },
      "id": "fscYB-A8ReL-",
      "execution_count": 1,
      "outputs": [
        {
          "output_type": "stream",
          "name": "stdout",
          "text": [
            "Drive already mounted at /content/drive; to attempt to forcibly remount, call drive.mount(\"/content/drive\", force_remount=True).\n"
          ]
        }
      ]
    },
    {
      "cell_type": "code",
      "execution_count": 2,
      "id": "f00aef8b",
      "metadata": {
        "colab": {
          "base_uri": "https://localhost:8080/"
        },
        "id": "f00aef8b",
        "outputId": "f429dc7f-048f-43ce-fd8c-b9f749a96f57"
      },
      "outputs": [
        {
          "output_type": "stream",
          "name": "stdout",
          "text": [
            "Requirement already satisfied: SQLAlchemy in /usr/local/lib/python3.7/dist-packages (1.4.31)\n",
            "Requirement already satisfied: greenlet!=0.4.17 in /usr/local/lib/python3.7/dist-packages (from SQLAlchemy) (1.1.2)\n",
            "Requirement already satisfied: importlib-metadata in /usr/local/lib/python3.7/dist-packages (from SQLAlchemy) (4.11.0)\n",
            "Requirement already satisfied: typing-extensions>=3.6.4 in /usr/local/lib/python3.7/dist-packages (from importlib-metadata->SQLAlchemy) (3.10.0.2)\n",
            "Requirement already satisfied: zipp>=0.5 in /usr/local/lib/python3.7/dist-packages (from importlib-metadata->SQLAlchemy) (3.7.0)\n",
            "Requirement already satisfied: pymysql in /usr/local/lib/python3.7/dist-packages (1.0.2)\n"
          ]
        }
      ],
      "source": [
        "import pandas as pd\n",
        "!pip install SQLAlchemy\n",
        "!pip install pymysql\n",
        "from sqlalchemy import create_engine\n",
        "import pymysql\n",
        "import configparser\n",
        "import matplotlib.pyplot as plt\n",
        "from sklearn.linear_model import LogisticRegression\n",
        "from sklearn.linear_model import LinearRegression\n",
        "from sklearn.preprocessing import StandardScaler,MinMaxScaler, RobustScaler\n",
        "from sklearn.metrics import classification_report\n",
        "from sklearn.model_selection import GridSearchCV\n",
        "from imblearn.pipeline import make_pipeline,Pipeline\n",
        "from sklearn.impute import SimpleImputer\n",
        "from imblearn.over_sampling import RandomOverSampler\n",
        "from sklearn.tree import DecisionTreeClassifier\n",
        "from imblearn.under_sampling import RandomUnderSampler\n",
        "from sklearn.ensemble import RandomForestClassifier\n",
        "from sklearn.tree import DecisionTreeRegressor"
      ]
    },
    {
      "cell_type": "code",
      "execution_count": 3,
      "id": "41f8983c",
      "metadata": {
        "scrolled": false,
        "colab": {
          "base_uri": "https://localhost:8080/",
          "height": 319
        },
        "id": "41f8983c",
        "outputId": "6b220dd9-c5f9-4be2-b832-193f0fb5b34e"
      },
      "outputs": [
        {
          "output_type": "execute_result",
          "data": {
            "text/html": [
              "\n",
              "  <div id=\"df-8b8a1bab-7b19-4ae6-8ad8-cafc1ffc5718\">\n",
              "    <div class=\"colab-df-container\">\n",
              "      <div>\n",
              "<style scoped>\n",
              "    .dataframe tbody tr th:only-of-type {\n",
              "        vertical-align: middle;\n",
              "    }\n",
              "\n",
              "    .dataframe tbody tr th {\n",
              "        vertical-align: top;\n",
              "    }\n",
              "\n",
              "    .dataframe thead th {\n",
              "        text-align: right;\n",
              "    }\n",
              "</style>\n",
              "<table border=\"1\" class=\"dataframe\">\n",
              "  <thead>\n",
              "    <tr style=\"text-align: right;\">\n",
              "      <th></th>\n",
              "      <th>ID</th>\n",
              "      <th>ActionTime</th>\n",
              "      <th>Action</th>\n",
              "      <th>Website</th>\n",
              "      <th>BannerSize</th>\n",
              "      <th>Brand</th>\n",
              "      <th>colour</th>\n",
              "      <th>InteractionTime</th>\n",
              "    </tr>\n",
              "    <tr>\n",
              "      <th>Unnamed: 0</th>\n",
              "      <th></th>\n",
              "      <th></th>\n",
              "      <th></th>\n",
              "      <th></th>\n",
              "      <th></th>\n",
              "      <th></th>\n",
              "      <th></th>\n",
              "      <th></th>\n",
              "    </tr>\n",
              "  </thead>\n",
              "  <tbody>\n",
              "    <tr>\n",
              "      <th>1</th>\n",
              "      <td>AMsySZbNg8SBwPtj7IGHnip_8aY0</td>\n",
              "      <td>1508761859495365</td>\n",
              "      <td>View</td>\n",
              "      <td>Facebook</td>\n",
              "      <td>300x600</td>\n",
              "      <td>Carter's</td>\n",
              "      <td>Pink</td>\n",
              "      <td>0.171601</td>\n",
              "    </tr>\n",
              "    <tr>\n",
              "      <th>2</th>\n",
              "      <td>AMsySZZcUFNGOJs-lfC9j-ZDlV7Z</td>\n",
              "      <td>1502847469736117</td>\n",
              "      <td>View</td>\n",
              "      <td>Facebook</td>\n",
              "      <td>300x250</td>\n",
              "      <td>Burberry</td>\n",
              "      <td>Red</td>\n",
              "      <td>4.303945</td>\n",
              "    </tr>\n",
              "    <tr>\n",
              "      <th>3</th>\n",
              "      <td>AMsySZYoK8_bD0hGv4zu0iRn1TFo</td>\n",
              "      <td>1514169431528120</td>\n",
              "      <td>View</td>\n",
              "      <td>Facebook</td>\n",
              "      <td>728x90</td>\n",
              "      <td>Disney</td>\n",
              "      <td>Yellow</td>\n",
              "      <td>0.868106</td>\n",
              "    </tr>\n",
              "    <tr>\n",
              "      <th>4</th>\n",
              "      <td>AMsySZahxpwLOWnMJj6RGATgwEOc</td>\n",
              "      <td>1515527952591896</td>\n",
              "      <td>View</td>\n",
              "      <td>Facebook</td>\n",
              "      <td>320x50</td>\n",
              "      <td>Carter's</td>\n",
              "      <td>Yellow</td>\n",
              "      <td>0.802647</td>\n",
              "    </tr>\n",
              "    <tr>\n",
              "      <th>5</th>\n",
              "      <td>AMsySZbqgfMBDtAqZz1jVRaOmX00</td>\n",
              "      <td>1507514809374045</td>\n",
              "      <td>View</td>\n",
              "      <td>instagram.com</td>\n",
              "      <td>300x250</td>\n",
              "      <td>Gap</td>\n",
              "      <td>Gold</td>\n",
              "      <td>0.627148</td>\n",
              "    </tr>\n",
              "  </tbody>\n",
              "</table>\n",
              "</div>\n",
              "      <button class=\"colab-df-convert\" onclick=\"convertToInteractive('df-8b8a1bab-7b19-4ae6-8ad8-cafc1ffc5718')\"\n",
              "              title=\"Convert this dataframe to an interactive table.\"\n",
              "              style=\"display:none;\">\n",
              "        \n",
              "  <svg xmlns=\"http://www.w3.org/2000/svg\" height=\"24px\"viewBox=\"0 0 24 24\"\n",
              "       width=\"24px\">\n",
              "    <path d=\"M0 0h24v24H0V0z\" fill=\"none\"/>\n",
              "    <path d=\"M18.56 5.44l.94 2.06.94-2.06 2.06-.94-2.06-.94-.94-2.06-.94 2.06-2.06.94zm-11 1L8.5 8.5l.94-2.06 2.06-.94-2.06-.94L8.5 2.5l-.94 2.06-2.06.94zm10 10l.94 2.06.94-2.06 2.06-.94-2.06-.94-.94-2.06-.94 2.06-2.06.94z\"/><path d=\"M17.41 7.96l-1.37-1.37c-.4-.4-.92-.59-1.43-.59-.52 0-1.04.2-1.43.59L10.3 9.45l-7.72 7.72c-.78.78-.78 2.05 0 2.83L4 21.41c.39.39.9.59 1.41.59.51 0 1.02-.2 1.41-.59l7.78-7.78 2.81-2.81c.8-.78.8-2.07 0-2.86zM5.41 20L4 18.59l7.72-7.72 1.47 1.35L5.41 20z\"/>\n",
              "  </svg>\n",
              "      </button>\n",
              "      \n",
              "  <style>\n",
              "    .colab-df-container {\n",
              "      display:flex;\n",
              "      flex-wrap:wrap;\n",
              "      gap: 12px;\n",
              "    }\n",
              "\n",
              "    .colab-df-convert {\n",
              "      background-color: #E8F0FE;\n",
              "      border: none;\n",
              "      border-radius: 50%;\n",
              "      cursor: pointer;\n",
              "      display: none;\n",
              "      fill: #1967D2;\n",
              "      height: 32px;\n",
              "      padding: 0 0 0 0;\n",
              "      width: 32px;\n",
              "    }\n",
              "\n",
              "    .colab-df-convert:hover {\n",
              "      background-color: #E2EBFA;\n",
              "      box-shadow: 0px 1px 2px rgba(60, 64, 67, 0.3), 0px 1px 3px 1px rgba(60, 64, 67, 0.15);\n",
              "      fill: #174EA6;\n",
              "    }\n",
              "\n",
              "    [theme=dark] .colab-df-convert {\n",
              "      background-color: #3B4455;\n",
              "      fill: #D2E3FC;\n",
              "    }\n",
              "\n",
              "    [theme=dark] .colab-df-convert:hover {\n",
              "      background-color: #434B5C;\n",
              "      box-shadow: 0px 1px 3px 1px rgba(0, 0, 0, 0.15);\n",
              "      filter: drop-shadow(0px 1px 2px rgba(0, 0, 0, 0.3));\n",
              "      fill: #FFFFFF;\n",
              "    }\n",
              "  </style>\n",
              "\n",
              "      <script>\n",
              "        const buttonEl =\n",
              "          document.querySelector('#df-8b8a1bab-7b19-4ae6-8ad8-cafc1ffc5718 button.colab-df-convert');\n",
              "        buttonEl.style.display =\n",
              "          google.colab.kernel.accessAllowed ? 'block' : 'none';\n",
              "\n",
              "        async function convertToInteractive(key) {\n",
              "          const element = document.querySelector('#df-8b8a1bab-7b19-4ae6-8ad8-cafc1ffc5718');\n",
              "          const dataTable =\n",
              "            await google.colab.kernel.invokeFunction('convertToInteractive',\n",
              "                                                     [key], {});\n",
              "          if (!dataTable) return;\n",
              "\n",
              "          const docLinkHtml = 'Like what you see? Visit the ' +\n",
              "            '<a target=\"_blank\" href=https://colab.research.google.com/notebooks/data_table.ipynb>data table notebook</a>'\n",
              "            + ' to learn more about interactive tables.';\n",
              "          element.innerHTML = '';\n",
              "          dataTable['output_type'] = 'display_data';\n",
              "          await google.colab.output.renderOutput(dataTable, element);\n",
              "          const docLink = document.createElement('div');\n",
              "          docLink.innerHTML = docLinkHtml;\n",
              "          element.appendChild(docLink);\n",
              "        }\n",
              "      </script>\n",
              "    </div>\n",
              "  </div>\n",
              "  "
            ],
            "text/plain": [
              "                                      ID  ...  InteractionTime\n",
              "Unnamed: 0                                ...                 \n",
              "1           AMsySZbNg8SBwPtj7IGHnip_8aY0  ...         0.171601\n",
              "2           AMsySZZcUFNGOJs-lfC9j-ZDlV7Z  ...         4.303945\n",
              "3           AMsySZYoK8_bD0hGv4zu0iRn1TFo  ...         0.868106\n",
              "4           AMsySZahxpwLOWnMJj6RGATgwEOc  ...         0.802647\n",
              "5           AMsySZbqgfMBDtAqZz1jVRaOmX00  ...         0.627148\n",
              "\n",
              "[5 rows x 8 columns]"
            ]
          },
          "metadata": {},
          "execution_count": 3
        }
      ],
      "source": [
        "## read data from ctrdata.csv\n",
        "Origin = pd.read_csv('/content/drive/My Drive/website project/test3_data.csv')\n",
        "Origin = Origin.set_index('Unnamed: 0')\n",
        "Origin.head()"
      ]
    },
    {
      "cell_type": "markdown",
      "source": [
        "# EDA & FEATURE ENGINEERING"
      ],
      "metadata": {
        "id": "aUE233yLk4ZG"
      },
      "id": "aUE233yLk4ZG"
    },
    {
      "cell_type": "code",
      "source": [
        "## Convert outcomes to 1 or 0 \n",
        "Origin['Action'] = Origin['Action'].replace({'View':0,'Click':1})\n",
        "Origin.head()"
      ],
      "metadata": {
        "colab": {
          "base_uri": "https://localhost:8080/",
          "height": 319
        },
        "id": "dmrzM9wOSJQO",
        "outputId": "5e1a3897-b055-49e1-ad3e-6f39c1269a65"
      },
      "id": "dmrzM9wOSJQO",
      "execution_count": 4,
      "outputs": [
        {
          "output_type": "execute_result",
          "data": {
            "text/html": [
              "\n",
              "  <div id=\"df-64eb7c69-b7cc-4cc8-b6ef-f556f35f032c\">\n",
              "    <div class=\"colab-df-container\">\n",
              "      <div>\n",
              "<style scoped>\n",
              "    .dataframe tbody tr th:only-of-type {\n",
              "        vertical-align: middle;\n",
              "    }\n",
              "\n",
              "    .dataframe tbody tr th {\n",
              "        vertical-align: top;\n",
              "    }\n",
              "\n",
              "    .dataframe thead th {\n",
              "        text-align: right;\n",
              "    }\n",
              "</style>\n",
              "<table border=\"1\" class=\"dataframe\">\n",
              "  <thead>\n",
              "    <tr style=\"text-align: right;\">\n",
              "      <th></th>\n",
              "      <th>ID</th>\n",
              "      <th>ActionTime</th>\n",
              "      <th>Action</th>\n",
              "      <th>Website</th>\n",
              "      <th>BannerSize</th>\n",
              "      <th>Brand</th>\n",
              "      <th>colour</th>\n",
              "      <th>InteractionTime</th>\n",
              "    </tr>\n",
              "    <tr>\n",
              "      <th>Unnamed: 0</th>\n",
              "      <th></th>\n",
              "      <th></th>\n",
              "      <th></th>\n",
              "      <th></th>\n",
              "      <th></th>\n",
              "      <th></th>\n",
              "      <th></th>\n",
              "      <th></th>\n",
              "    </tr>\n",
              "  </thead>\n",
              "  <tbody>\n",
              "    <tr>\n",
              "      <th>1</th>\n",
              "      <td>AMsySZbNg8SBwPtj7IGHnip_8aY0</td>\n",
              "      <td>1508761859495365</td>\n",
              "      <td>0</td>\n",
              "      <td>Facebook</td>\n",
              "      <td>300x600</td>\n",
              "      <td>Carter's</td>\n",
              "      <td>Pink</td>\n",
              "      <td>0.171601</td>\n",
              "    </tr>\n",
              "    <tr>\n",
              "      <th>2</th>\n",
              "      <td>AMsySZZcUFNGOJs-lfC9j-ZDlV7Z</td>\n",
              "      <td>1502847469736117</td>\n",
              "      <td>0</td>\n",
              "      <td>Facebook</td>\n",
              "      <td>300x250</td>\n",
              "      <td>Burberry</td>\n",
              "      <td>Red</td>\n",
              "      <td>4.303945</td>\n",
              "    </tr>\n",
              "    <tr>\n",
              "      <th>3</th>\n",
              "      <td>AMsySZYoK8_bD0hGv4zu0iRn1TFo</td>\n",
              "      <td>1514169431528120</td>\n",
              "      <td>0</td>\n",
              "      <td>Facebook</td>\n",
              "      <td>728x90</td>\n",
              "      <td>Disney</td>\n",
              "      <td>Yellow</td>\n",
              "      <td>0.868106</td>\n",
              "    </tr>\n",
              "    <tr>\n",
              "      <th>4</th>\n",
              "      <td>AMsySZahxpwLOWnMJj6RGATgwEOc</td>\n",
              "      <td>1515527952591896</td>\n",
              "      <td>0</td>\n",
              "      <td>Facebook</td>\n",
              "      <td>320x50</td>\n",
              "      <td>Carter's</td>\n",
              "      <td>Yellow</td>\n",
              "      <td>0.802647</td>\n",
              "    </tr>\n",
              "    <tr>\n",
              "      <th>5</th>\n",
              "      <td>AMsySZbqgfMBDtAqZz1jVRaOmX00</td>\n",
              "      <td>1507514809374045</td>\n",
              "      <td>0</td>\n",
              "      <td>instagram.com</td>\n",
              "      <td>300x250</td>\n",
              "      <td>Gap</td>\n",
              "      <td>Gold</td>\n",
              "      <td>0.627148</td>\n",
              "    </tr>\n",
              "  </tbody>\n",
              "</table>\n",
              "</div>\n",
              "      <button class=\"colab-df-convert\" onclick=\"convertToInteractive('df-64eb7c69-b7cc-4cc8-b6ef-f556f35f032c')\"\n",
              "              title=\"Convert this dataframe to an interactive table.\"\n",
              "              style=\"display:none;\">\n",
              "        \n",
              "  <svg xmlns=\"http://www.w3.org/2000/svg\" height=\"24px\"viewBox=\"0 0 24 24\"\n",
              "       width=\"24px\">\n",
              "    <path d=\"M0 0h24v24H0V0z\" fill=\"none\"/>\n",
              "    <path d=\"M18.56 5.44l.94 2.06.94-2.06 2.06-.94-2.06-.94-.94-2.06-.94 2.06-2.06.94zm-11 1L8.5 8.5l.94-2.06 2.06-.94-2.06-.94L8.5 2.5l-.94 2.06-2.06.94zm10 10l.94 2.06.94-2.06 2.06-.94-2.06-.94-.94-2.06-.94 2.06-2.06.94z\"/><path d=\"M17.41 7.96l-1.37-1.37c-.4-.4-.92-.59-1.43-.59-.52 0-1.04.2-1.43.59L10.3 9.45l-7.72 7.72c-.78.78-.78 2.05 0 2.83L4 21.41c.39.39.9.59 1.41.59.51 0 1.02-.2 1.41-.59l7.78-7.78 2.81-2.81c.8-.78.8-2.07 0-2.86zM5.41 20L4 18.59l7.72-7.72 1.47 1.35L5.41 20z\"/>\n",
              "  </svg>\n",
              "      </button>\n",
              "      \n",
              "  <style>\n",
              "    .colab-df-container {\n",
              "      display:flex;\n",
              "      flex-wrap:wrap;\n",
              "      gap: 12px;\n",
              "    }\n",
              "\n",
              "    .colab-df-convert {\n",
              "      background-color: #E8F0FE;\n",
              "      border: none;\n",
              "      border-radius: 50%;\n",
              "      cursor: pointer;\n",
              "      display: none;\n",
              "      fill: #1967D2;\n",
              "      height: 32px;\n",
              "      padding: 0 0 0 0;\n",
              "      width: 32px;\n",
              "    }\n",
              "\n",
              "    .colab-df-convert:hover {\n",
              "      background-color: #E2EBFA;\n",
              "      box-shadow: 0px 1px 2px rgba(60, 64, 67, 0.3), 0px 1px 3px 1px rgba(60, 64, 67, 0.15);\n",
              "      fill: #174EA6;\n",
              "    }\n",
              "\n",
              "    [theme=dark] .colab-df-convert {\n",
              "      background-color: #3B4455;\n",
              "      fill: #D2E3FC;\n",
              "    }\n",
              "\n",
              "    [theme=dark] .colab-df-convert:hover {\n",
              "      background-color: #434B5C;\n",
              "      box-shadow: 0px 1px 3px 1px rgba(0, 0, 0, 0.15);\n",
              "      filter: drop-shadow(0px 1px 2px rgba(0, 0, 0, 0.3));\n",
              "      fill: #FFFFFF;\n",
              "    }\n",
              "  </style>\n",
              "\n",
              "      <script>\n",
              "        const buttonEl =\n",
              "          document.querySelector('#df-64eb7c69-b7cc-4cc8-b6ef-f556f35f032c button.colab-df-convert');\n",
              "        buttonEl.style.display =\n",
              "          google.colab.kernel.accessAllowed ? 'block' : 'none';\n",
              "\n",
              "        async function convertToInteractive(key) {\n",
              "          const element = document.querySelector('#df-64eb7c69-b7cc-4cc8-b6ef-f556f35f032c');\n",
              "          const dataTable =\n",
              "            await google.colab.kernel.invokeFunction('convertToInteractive',\n",
              "                                                     [key], {});\n",
              "          if (!dataTable) return;\n",
              "\n",
              "          const docLinkHtml = 'Like what you see? Visit the ' +\n",
              "            '<a target=\"_blank\" href=https://colab.research.google.com/notebooks/data_table.ipynb>data table notebook</a>'\n",
              "            + ' to learn more about interactive tables.';\n",
              "          element.innerHTML = '';\n",
              "          dataTable['output_type'] = 'display_data';\n",
              "          await google.colab.output.renderOutput(dataTable, element);\n",
              "          const docLink = document.createElement('div');\n",
              "          docLink.innerHTML = docLinkHtml;\n",
              "          element.appendChild(docLink);\n",
              "        }\n",
              "      </script>\n",
              "    </div>\n",
              "  </div>\n",
              "  "
            ],
            "text/plain": [
              "                                      ID  ...  InteractionTime\n",
              "Unnamed: 0                                ...                 \n",
              "1           AMsySZbNg8SBwPtj7IGHnip_8aY0  ...         0.171601\n",
              "2           AMsySZZcUFNGOJs-lfC9j-ZDlV7Z  ...         4.303945\n",
              "3           AMsySZYoK8_bD0hGv4zu0iRn1TFo  ...         0.868106\n",
              "4           AMsySZahxpwLOWnMJj6RGATgwEOc  ...         0.802647\n",
              "5           AMsySZbqgfMBDtAqZz1jVRaOmX00  ...         0.627148\n",
              "\n",
              "[5 rows x 8 columns]"
            ]
          },
          "metadata": {},
          "execution_count": 4
        }
      ]
    },
    {
      "cell_type": "code",
      "source": [
        "## Detemine output, split testdata\n",
        "from sklearn.model_selection import train_test_split\n",
        "X = Origin.drop(columns=['Action'])\n",
        "y = Origin['Action']\n",
        "\n",
        "adX_train, adX_test, ady_train, ady_test = train_test_split(X, y, test_size=0.25)\n",
        "adX_train.info()"
      ],
      "metadata": {
        "colab": {
          "base_uri": "https://localhost:8080/"
        },
        "id": "JXT6JsEoolZw",
        "outputId": "68615bb7-871b-4dca-cdc0-3a0d0775cdf5"
      },
      "id": "JXT6JsEoolZw",
      "execution_count": 5,
      "outputs": [
        {
          "output_type": "stream",
          "name": "stdout",
          "text": [
            "<class 'pandas.core.frame.DataFrame'>\n",
            "Int64Index: 750000 entries, 326056 to 988700\n",
            "Data columns (total 7 columns):\n",
            " #   Column           Non-Null Count   Dtype  \n",
            "---  ------           --------------   -----  \n",
            " 0   ID               750000 non-null  object \n",
            " 1   ActionTime       750000 non-null  int64  \n",
            " 2   Website          750000 non-null  object \n",
            " 3   BannerSize       750000 non-null  object \n",
            " 4   Brand            750000 non-null  object \n",
            " 5   colour           750000 non-null  object \n",
            " 6   InteractionTime  749994 non-null  float64\n",
            "dtypes: float64(1), int64(1), object(5)\n",
            "memory usage: 45.8+ MB\n"
          ]
        }
      ]
    },
    {
      "cell_type": "code",
      "source": [
        "## Filling missing values\n",
        "ITmean = adX_train['InteractionTime'].mean() \n",
        "adX_train['InteractionTime'] = adX_train['InteractionTime'].fillna(ITmean)"
      ],
      "metadata": {
        "id": "jkN5A8wrobXG"
      },
      "id": "jkN5A8wrobXG",
      "execution_count": 6,
      "outputs": []
    },
    {
      "cell_type": "markdown",
      "source": [
        ""
      ],
      "metadata": {
        "id": "pWS8TdXpoMpf"
      },
      "id": "pWS8TdXpoMpf"
    },
    {
      "cell_type": "code",
      "source": [
        "## Feature ID examination \n",
        "adX_train['ID'].value_counts().describe()"
      ],
      "metadata": {
        "colab": {
          "base_uri": "https://localhost:8080/"
        },
        "id": "xBRi09d7nXcf",
        "outputId": "51f3d8b9-c5c5-4473-e20e-3f30d378cc1a"
      },
      "id": "xBRi09d7nXcf",
      "execution_count": 13,
      "outputs": [
        {
          "output_type": "execute_result",
          "data": {
            "text/plain": [
              "count    190416.000000\n",
              "mean          3.938745\n",
              "std          12.360767\n",
              "min           1.000000\n",
              "25%           1.000000\n",
              "50%           2.000000\n",
              "75%           3.000000\n",
              "max        1683.000000\n",
              "Name: ID, dtype: float64"
            ]
          },
          "metadata": {},
          "execution_count": 13
        }
      ]
    },
    {
      "cell_type": "code",
      "source": [
        "## Feature ID examination \n",
        "data = adX_train['ID'].value_counts()\n",
        "# Boxplot the count of IDs\n",
        "fig = plt.figure()\n",
        "fig.suptitle('IDs on Record', fontsize=14, fontweight='bold')\n",
        "\n",
        "ax = fig.add_subplot(111)\n",
        "ax.boxplot(data)\n",
        "\n",
        "ax.set_xlabel('IDs')\n",
        "ax.set_ylabel('Frequency')\n",
        "\n",
        "plt.show(); \n",
        "## Base on the ID analysis, the times of ad viewing by different users range from 1 to almost 1750 times"
      ],
      "metadata": {
        "colab": {
          "base_uri": "https://localhost:8080/",
          "height": 308
        },
        "id": "5sWair2RlQSn",
        "outputId": "f6ad8ed8-8f04-418f-a37d-497349d3cf7b"
      },
      "id": "5sWair2RlQSn",
      "execution_count": 12,
      "outputs": [
        {
          "output_type": "display_data",
          "data": {
            "image/png": "[encoded data removed]",
            "text/plain": [
              "<Figure size 432x288 with 1 Axes>"
            ]
          },
          "metadata": {
            "needs_background": "light"
          }
        }
      ]
    },
    {
      "cell_type": "code",
      "source": [
        "## Feature ID Engineering: convert ID to degree of interactions based on the number of ID on record\n",
        "data = adX_train['ID'].value_counts()\n",
        "## Assign ranges to the frequency of ID\n",
        "\n",
        "Number_IDs = [0, 1.5, 3.5, 5.5, 10, 1750]\n",
        "\n",
        "## Determine the degree of website interaction; e.g. if a user's ID appears 1000 times a day, she is determined\n",
        "## as a highly active online user\n",
        "\n",
        "degree = ['Occationally Use', 'Normal', 'Frequent', 'Active', 'Highly Active']\n",
        "adX_train = adX_train.set_index('ID')\n",
        "adX_train['InteractiveDegree'] = pd.cut(data, bins=Number_IDs, labels=degree)\n",
        "adX_train = adX_train.reset_index()\n",
        "adX_train['InteractiveDegree']"
      ],
      "metadata": {
        "colab": {
          "base_uri": "https://localhost:8080/"
        },
        "id": "Qg-hFaUDuFqv",
        "outputId": "41862ec1-8deb-4597-9acc-c031e5b6dd6e"
      },
      "id": "Qg-hFaUDuFqv",
      "execution_count": 19,
      "outputs": [
        {
          "output_type": "execute_result",
          "data": {
            "text/plain": [
              "0                   Normal\n",
              "1            Highly Active\n",
              "2            Highly Active\n",
              "3         Occationally Use\n",
              "4            Highly Active\n",
              "                ...       \n",
              "749995    Occationally Use\n",
              "749996              Normal\n",
              "749997              Active\n",
              "749998    Occationally Use\n",
              "749999            Frequent\n",
              "Name: InteractiveDegree, Length: 750000, dtype: category\n",
              "Categories (5, object): ['Occationally Use' < 'Normal' < 'Frequent' < 'Active' < 'Highly Active']"
            ]
          },
          "metadata": {},
          "execution_count": 19
        }
      ]
    },
    {
      "cell_type": "code",
      "source": [
        "## Datetime exploration\n",
        "adX_train['ActionTime']\n",
        "## the feature need to be converted to datime format"
      ],
      "metadata": {
        "colab": {
          "base_uri": "https://localhost:8080/"
        },
        "id": "_K1PX6XvNo3X",
        "outputId": "bcbf56c5-3fcc-4228-e98a-94a5ca13cead"
      },
      "id": "_K1PX6XvNo3X",
      "execution_count": 21,
      "outputs": [
        {
          "output_type": "execute_result",
          "data": {
            "text/plain": [
              "0         1506301185051263\n",
              "1         1505163746071675\n",
              "2         1501919745902429\n",
              "3         1502381239943911\n",
              "4         1501338113506252\n",
              "                ...       \n",
              "749995    1506228369044639\n",
              "749996    1501168925182189\n",
              "749997    1501607620864332\n",
              "749998    1508273391314275\n",
              "749999    1504297389756462\n",
              "Name: ActionTime, Length: 750000, dtype: int64"
            ]
          },
          "metadata": {},
          "execution_count": 21
        }
      ]
    },
    {
      "cell_type": "code",
      "source": [
        "## Datetime Engineering\n",
        "## Convert ActionTime to regular timestamp\n",
        "adX_train['ActionTime']=pd.to_datetime(adX_train['ActionTime'].astype('float64')/10**6, unit='s')"
      ],
      "metadata": {
        "id": "oTlk2N5qWM1Z"
      },
      "id": "oTlk2N5qWM1Z",
      "execution_count": null,
      "outputs": []
    },
    {
      "cell_type": "code",
      "source": [
        "\n",
        "\n",
        "## Classify the ActionTime timestamp to different periods of a day\n",
        "hr = pd.to_datetime(adX_train ['ActionTime']).dt.hour\n",
        "time = [-1, 2.1, 6.1, 9.1, 11.1, 19.1, 24]\n",
        "## If the view action happen at 2:00 am, it is classified as late_night\n",
        "time_name = ['late_night', 'early_morning', 'morning', 'noon', 'afternoon', 'evening']\n",
        "adX_train['Daysection'] = pd.cut(hr, bins=time, labels=time_name)\n",
        "\n",
        "\n",
        "## Classify the ActionTime timestamp to either a weekday or weekend\n",
        "def wd(a):\n",
        "    if a==5 or a==6:\n",
        "        b='weekend'\n",
        "    else:\n",
        "        b='weekday'\n",
        "    return b\n",
        "\n",
        "adX_train['Dayofweek'] = pd.to_datetime(adX_train ['ActionTime']).dt.dayofweek.apply(wd)\n",
        "\n"
      ],
      "metadata": {
        "id": "V7kzB69AN2gi"
      },
      "id": "V7kzB69AN2gi",
      "execution_count": 26,
      "outputs": []
    },
    {
      "cell_type": "code",
      "source": [
        "adX_train[['ActionTime','Daysection','Dayofweek']]"
      ],
      "metadata": {
        "colab": {
          "base_uri": "https://localhost:8080/",
          "height": 423
        },
        "id": "KYfRfghXVmM8",
        "outputId": "554fdbc4-b635-4f79-828f-786cf7da655b"
      },
      "id": "KYfRfghXVmM8",
      "execution_count": 27,
      "outputs": [
        {
          "output_type": "execute_result",
          "data": {
            "text/html": [
              "\n",
              "  <div id=\"df-aa30c26c-9121-487a-a836-88b3a8ae78af\">\n",
              "    <div class=\"colab-df-container\">\n",
              "      <div>\n",
              "<style scoped>\n",
              "    .dataframe tbody tr th:only-of-type {\n",
              "        vertical-align: middle;\n",
              "    }\n",
              "\n",
              "    .dataframe tbody tr th {\n",
              "        vertical-align: top;\n",
              "    }\n",
              "\n",
              "    .dataframe thead th {\n",
              "        text-align: right;\n",
              "    }\n",
              "</style>\n",
              "<table border=\"1\" class=\"dataframe\">\n",
              "  <thead>\n",
              "    <tr style=\"text-align: right;\">\n",
              "      <th></th>\n",
              "      <th>ActionTime</th>\n",
              "      <th>Daysection</th>\n",
              "      <th>Dayofweek</th>\n",
              "    </tr>\n",
              "  </thead>\n",
              "  <tbody>\n",
              "    <tr>\n",
              "      <th>0</th>\n",
              "      <td>2017-09-25 00:59:45.051262976</td>\n",
              "      <td>late_night</td>\n",
              "      <td>weekday</td>\n",
              "    </tr>\n",
              "    <tr>\n",
              "      <th>1</th>\n",
              "      <td>2017-09-11 21:02:26.071675136</td>\n",
              "      <td>evening</td>\n",
              "      <td>weekday</td>\n",
              "    </tr>\n",
              "    <tr>\n",
              "      <th>2</th>\n",
              "      <td>2017-08-05 07:55:45.902429184</td>\n",
              "      <td>morning</td>\n",
              "      <td>weekend</td>\n",
              "    </tr>\n",
              "    <tr>\n",
              "      <th>3</th>\n",
              "      <td>2017-08-10 16:07:19.943911168</td>\n",
              "      <td>afternoon</td>\n",
              "      <td>weekday</td>\n",
              "    </tr>\n",
              "    <tr>\n",
              "      <th>4</th>\n",
              "      <td>2017-07-29 14:21:53.506252032</td>\n",
              "      <td>afternoon</td>\n",
              "      <td>weekend</td>\n",
              "    </tr>\n",
              "    <tr>\n",
              "      <th>...</th>\n",
              "      <td>...</td>\n",
              "      <td>...</td>\n",
              "      <td>...</td>\n",
              "    </tr>\n",
              "    <tr>\n",
              "      <th>749995</th>\n",
              "      <td>2017-09-24 04:46:09.044639232</td>\n",
              "      <td>early_morning</td>\n",
              "      <td>weekend</td>\n",
              "    </tr>\n",
              "    <tr>\n",
              "      <th>749996</th>\n",
              "      <td>2017-07-27 15:22:05.182189056</td>\n",
              "      <td>afternoon</td>\n",
              "      <td>weekday</td>\n",
              "    </tr>\n",
              "    <tr>\n",
              "      <th>749997</th>\n",
              "      <td>2017-08-01 17:13:40.864332032</td>\n",
              "      <td>afternoon</td>\n",
              "      <td>weekday</td>\n",
              "    </tr>\n",
              "    <tr>\n",
              "      <th>749998</th>\n",
              "      <td>2017-10-17 20:49:51.314275072</td>\n",
              "      <td>evening</td>\n",
              "      <td>weekday</td>\n",
              "    </tr>\n",
              "    <tr>\n",
              "      <th>749999</th>\n",
              "      <td>2017-09-01 20:23:09.756462080</td>\n",
              "      <td>evening</td>\n",
              "      <td>weekday</td>\n",
              "    </tr>\n",
              "  </tbody>\n",
              "</table>\n",
              "<p>750000 rows × 3 columns</p>\n",
              "</div>\n",
              "      <button class=\"colab-df-convert\" onclick=\"convertToInteractive('df-aa30c26c-9121-487a-a836-88b3a8ae78af')\"\n",
              "              title=\"Convert this dataframe to an interactive table.\"\n",
              "              style=\"display:none;\">\n",
              "        \n",
              "  <svg xmlns=\"http://www.w3.org/2000/svg\" height=\"24px\"viewBox=\"0 0 24 24\"\n",
              "       width=\"24px\">\n",
              "    <path d=\"M0 0h24v24H0V0z\" fill=\"none\"/>\n",
              "    <path d=\"M18.56 5.44l.94 2.06.94-2.06 2.06-.94-2.06-.94-.94-2.06-.94 2.06-2.06.94zm-11 1L8.5 8.5l.94-2.06 2.06-.94-2.06-.94L8.5 2.5l-.94 2.06-2.06.94zm10 10l.94 2.06.94-2.06 2.06-.94-2.06-.94-.94-2.06-.94 2.06-2.06.94z\"/><path d=\"M17.41 7.96l-1.37-1.37c-.4-.4-.92-.59-1.43-.59-.52 0-1.04.2-1.43.59L10.3 9.45l-7.72 7.72c-.78.78-.78 2.05 0 2.83L4 21.41c.39.39.9.59 1.41.59.51 0 1.02-.2 1.41-.59l7.78-7.78 2.81-2.81c.8-.78.8-2.07 0-2.86zM5.41 20L4 18.59l7.72-7.72 1.47 1.35L5.41 20z\"/>\n",
              "  </svg>\n",
              "      </button>\n",
              "      \n",
              "  <style>\n",
              "    .colab-df-container {\n",
              "      display:flex;\n",
              "      flex-wrap:wrap;\n",
              "      gap: 12px;\n",
              "    }\n",
              "\n",
              "    .colab-df-convert {\n",
              "      background-color: #E8F0FE;\n",
              "      border: none;\n",
              "      border-radius: 50%;\n",
              "      cursor: pointer;\n",
              "      display: none;\n",
              "      fill: #1967D2;\n",
              "      height: 32px;\n",
              "      padding: 0 0 0 0;\n",
              "      width: 32px;\n",
              "    }\n",
              "\n",
              "    .colab-df-convert:hover {\n",
              "      background-color: #E2EBFA;\n",
              "      box-shadow: 0px 1px 2px rgba(60, 64, 67, 0.3), 0px 1px 3px 1px rgba(60, 64, 67, 0.15);\n",
              "      fill: #174EA6;\n",
              "    }\n",
              "\n",
              "    [theme=dark] .colab-df-convert {\n",
              "      background-color: #3B4455;\n",
              "      fill: #D2E3FC;\n",
              "    }\n",
              "\n",
              "    [theme=dark] .colab-df-convert:hover {\n",
              "      background-color: #434B5C;\n",
              "      box-shadow: 0px 1px 3px 1px rgba(0, 0, 0, 0.15);\n",
              "      filter: drop-shadow(0px 1px 2px rgba(0, 0, 0, 0.3));\n",
              "      fill: #FFFFFF;\n",
              "    }\n",
              "  </style>\n",
              "\n",
              "      <script>\n",
              "        const buttonEl =\n",
              "          document.querySelector('#df-aa30c26c-9121-487a-a836-88b3a8ae78af button.colab-df-convert');\n",
              "        buttonEl.style.display =\n",
              "          google.colab.kernel.accessAllowed ? 'block' : 'none';\n",
              "\n",
              "        async function convertToInteractive(key) {\n",
              "          const element = document.querySelector('#df-aa30c26c-9121-487a-a836-88b3a8ae78af');\n",
              "          const dataTable =\n",
              "            await google.colab.kernel.invokeFunction('convertToInteractive',\n",
              "                                                     [key], {});\n",
              "          if (!dataTable) return;\n",
              "\n",
              "          const docLinkHtml = 'Like what you see? Visit the ' +\n",
              "            '<a target=\"_blank\" href=https://colab.research.google.com/notebooks/data_table.ipynb>data table notebook</a>'\n",
              "            + ' to learn more about interactive tables.';\n",
              "          element.innerHTML = '';\n",
              "          dataTable['output_type'] = 'display_data';\n",
              "          await google.colab.output.renderOutput(dataTable, element);\n",
              "          const docLink = document.createElement('div');\n",
              "          docLink.innerHTML = docLinkHtml;\n",
              "          element.appendChild(docLink);\n",
              "        }\n",
              "      </script>\n",
              "    </div>\n",
              "  </div>\n",
              "  "
            ],
            "text/plain": [
              "                          ActionTime     Daysection Dayofweek\n",
              "0      2017-09-25 00:59:45.051262976     late_night   weekday\n",
              "1      2017-09-11 21:02:26.071675136        evening   weekday\n",
              "2      2017-08-05 07:55:45.902429184        morning   weekend\n",
              "3      2017-08-10 16:07:19.943911168      afternoon   weekday\n",
              "4      2017-07-29 14:21:53.506252032      afternoon   weekend\n",
              "...                              ...            ...       ...\n",
              "749995 2017-09-24 04:46:09.044639232  early_morning   weekend\n",
              "749996 2017-07-27 15:22:05.182189056      afternoon   weekday\n",
              "749997 2017-08-01 17:13:40.864332032      afternoon   weekday\n",
              "749998 2017-10-17 20:49:51.314275072        evening   weekday\n",
              "749999 2017-09-01 20:23:09.756462080        evening   weekday\n",
              "\n",
              "[750000 rows x 3 columns]"
            ]
          },
          "metadata": {},
          "execution_count": 27
        }
      ]
    },
    {
      "cell_type": "code",
      "source": [
        "## BannerSize Exploration\n",
        "adX_train['BannerSize'].value_counts().index\n",
        "## Need to convert the data from string to size numbers"
      ],
      "metadata": {
        "colab": {
          "base_uri": "https://localhost:8080/"
        },
        "id": "pgrdhepxXTnJ",
        "outputId": "ba47bb13-dfc3-4e30-ebe8-c7e0e913f068"
      },
      "id": "pgrdhepxXTnJ",
      "execution_count": 32,
      "outputs": [
        {
          "output_type": "execute_result",
          "data": {
            "text/plain": [
              "Index(['300x250', '728x90', 'Other', '320x50', '300x600', '160x600',\n",
              "       '1200x627', '1x1', '320x480', '300x50', '320x100', '768x1024',\n",
              "       '750x125', '1536x2048', 'other'],\n",
              "      dtype='object')"
            ]
          },
          "metadata": {},
          "execution_count": 32
        }
      ]
    },
    {
      "cell_type": "code",
      "source": [
        "## BannerSize Engineering\n",
        "# Convert Banner Size to area sizes, set size(other) to 0\n",
        "adX_train['BannerSize'] = adX_train['BannerSize'].str.extract(r'(\\d+)x').fillna(0).astype(int) * adX_train['BannerSize'].str.extract(r'x(\\d+)').fillna(0).astype('int64')\n",
        "\n",
        "## Convert 0 value to mean size value\n",
        "Bannermean = adX_train['BannerSize'].mean()\n",
        "adX_train['BannerSize'] = adX_train['BannerSize'].replace(0,Bannermean)\n",
        "\n",
        "\n"
      ],
      "metadata": {
        "colab": {
          "base_uri": "https://localhost:8080/"
        },
        "id": "bYJ6Ce0jn0Je",
        "outputId": "e59c3153-bb65-4d13-8c53-a4cd6f847ba6"
      },
      "id": "bYJ6Ce0jn0Je",
      "execution_count": 33,
      "outputs": [
        {
          "output_type": "execute_result",
          "data": {
            "text/plain": [
              "75000      306681\n",
              "65520      146986\n",
              "0          121766\n",
              "16000       46534\n",
              "180000      44423\n",
              "96000       43263\n",
              "752400      24667\n",
              "1            6506\n",
              "153600       5331\n",
              "15000        1360\n",
              "32000         949\n",
              "786432        870\n",
              "93750         426\n",
              "3145728       238\n",
              "Name: BannerSize, dtype: int64"
            ]
          },
          "metadata": {},
          "execution_count": 33
        }
      ]
    },
    {
      "cell_type": "code",
      "source": [
        "plt.title('Distribution of Banner Size')\n",
        "plt.xlabel('Size of Banners(square mm)')\n",
        "plt.ylabel('Number')\n",
        "plt.hist(adX_train['BannerSize'],range=(0,100000)); \n",
        "## The Sizes can be further classified"
      ],
      "metadata": {
        "colab": {
          "base_uri": "https://localhost:8080/",
          "height": 295
        },
        "id": "DfG0LwG7ZTb8",
        "outputId": "d6823330-a8a5-4428-a0a9-145d3d4fc74f"
      },
      "id": "DfG0LwG7ZTb8",
      "execution_count": 52,
      "outputs": [
        {
          "output_type": "display_data",
          "data": {
            "image/png": "[encoded data removed]",
            "text/plain": [
              "<Figure size 432x288 with 1 Axes>"
            ]
          },
          "metadata": {
            "needs_background": "light"
          }
        }
      ]
    },
    {
      "cell_type": "code",
      "source": [
        "## Classify the Banner to different categories in terms of banner sizes\n",
        "data = adX_train['BannerSize']\n",
        "size = [0, 40000, 65000, 80000, 100000]\n",
        "\n",
        "## If the Banner size is 50000, this is a small size\n",
        "size_category = ['Very Small', 'Small', 'Regular', 'Large']\n",
        "adX_train['SizeLabel'] = pd.cut(data, bins=size, labels=size_category)\n",
        "adX_train['SizeLabel'].value_counts().plot(kind='bar');"
      ],
      "metadata": {
        "colab": {
          "base_uri": "https://localhost:8080/",
          "height": 308
        },
        "id": "zj0ETEn9gX95",
        "outputId": "04e688c3-aebd-4ca7-fee0-8ea5238f1af8"
      },
      "id": "zj0ETEn9gX95",
      "execution_count": 57,
      "outputs": [
        {
          "output_type": "display_data",
          "data": {
            "image/png": "[encoded data removed]",
            "text/plain": [
              "<Figure size 432x288 with 1 Axes>"
            ]
          },
          "metadata": {
            "needs_background": "light"
          }
        }
      ]
    },
    {
      "cell_type": "code",
      "source": [
        "## Feature Examination Interaction Time\n",
        "adX_train['InteractionTime'].describe()"
      ],
      "metadata": {
        "colab": {
          "base_uri": "https://localhost:8080/"
        },
        "id": "5EM6DE2dkcoo",
        "outputId": "026f76a0-25d7-4600-cf0b-41d01f03b25b"
      },
      "id": "5EM6DE2dkcoo",
      "execution_count": 66,
      "outputs": [
        {
          "output_type": "execute_result",
          "data": {
            "text/plain": [
              "count    750000.000000\n",
              "mean          0.998686\n",
              "std           0.998757\n",
              "min           0.000002\n",
              "25%           0.288319\n",
              "50%           0.693069\n",
              "75%           1.382503\n",
              "max          13.385281\n",
              "Name: InteractionTime, dtype: float64"
            ]
          },
          "metadata": {},
          "execution_count": 66
        }
      ]
    },
    {
      "cell_type": "code",
      "source": [
        "## Feature Examination Interaction Time\n",
        "\n",
        "plt.title('Distribution of Interaction time')\n",
        "plt.xlabel('Interaction Time (s)')\n",
        "plt.ylabel('Count')\n",
        "plt.hist(adX_train['InteractionTime'],range=(0,7));\n"
      ],
      "metadata": {
        "colab": {
          "base_uri": "https://localhost:8080/",
          "height": 295
        },
        "id": "RyMrM32YjpMI",
        "outputId": "678d5532-9a40-4046-d029-381e93968bce"
      },
      "id": "RyMrM32YjpMI",
      "execution_count": 65,
      "outputs": [
        {
          "output_type": "display_data",
          "data": {
            "image/png": "[encoded data removed]",
            "text/plain": [
              "<Figure size 432x288 with 1 Axes>"
            ]
          },
          "metadata": {
            "needs_background": "light"
          }
        }
      ]
    },
    {
      "cell_type": "code",
      "source": [
        "## Feature Engineering Interaction Time\n",
        "## Classify the Interactin time to different time length categories\n",
        "data1 = adX_train['InteractionTime']\n",
        "itime = [0, 0.5, 1.5, 3, 15]\n",
        "\n",
        "## If the Banner size is 50000, this is a small size\n",
        "Length_category = ['Short', 'Regualr', 'Long', 'Very Long']\n",
        "adX_train['InteractionLength'] = pd.cut(data1, bins=itime, labels=Length_category)\n",
        "adX_train['InteractionLength'].value_counts().plot(kind='bar');"
      ],
      "metadata": {
        "colab": {
          "base_uri": "https://localhost:8080/",
          "height": 305
        },
        "id": "wnUvEKTbksmw",
        "outputId": "91f92950-f9f1-48b1-ca0b-97888f16a090"
      },
      "id": "wnUvEKTbksmw",
      "execution_count": 69,
      "outputs": [
        {
          "output_type": "display_data",
          "data": {
            "image/png": "[encoded data removed]",
            "text/plain": [
              "<Figure size 432x288 with 1 Axes>"
            ]
          },
          "metadata": {
            "needs_background": "light"
          }
        }
      ]
    },
    {
      "cell_type": "code",
      "source": [
        "adX_train['Website'].value_counts()"
      ],
      "metadata": {
        "colab": {
          "base_uri": "https://localhost:8080/"
        },
        "id": "llqnBAxQjBQ5",
        "outputId": "4022de74-815d-413a-ec69-5b0004a0bff7"
      },
      "id": "llqnBAxQjBQ5",
      "execution_count": 58,
      "outputs": [
        {
          "output_type": "execute_result",
          "data": {
            "text/plain": [
              "Facebook         449964\n",
              "Other             73230\n",
              "Atedra            46235\n",
              "instagram.com     42025\n",
              "Craigslist.ca     29729\n",
              "Yahoo             25331\n",
              "TubeMogul         21561\n",
              "Twitter           15858\n",
              "Amazon            15474\n",
              "Sympatico          8498\n",
              "Kijiji             5770\n",
              "Expedia            5254\n",
              "Youtube            3854\n",
              "Weather            3820\n",
              "Wayfair            2975\n",
              "AOL                 422\n",
              "Name: Website, dtype: int64"
            ]
          },
          "metadata": {},
          "execution_count": 58
        }
      ]
    },
    {
      "cell_type": "code",
      "source": [
        "adX_train['Brand'].value_counts()"
      ],
      "metadata": {
        "colab": {
          "base_uri": "https://localhost:8080/"
        },
        "id": "avI3lD2ajTeN",
        "outputId": "f3fa2c3f-6e30-426d-9680-d709ee8308a0"
      },
      "id": "avI3lD2ajTeN",
      "execution_count": 59,
      "outputs": [
        {
          "output_type": "execute_result",
          "data": {
            "text/plain": [
              "Carter's                166875\n",
              "JoeFresh                143496\n",
              "Old Navy                113042\n",
              "Banana Republic          62883\n",
              "Burberry                 62570\n",
              "Disney                   62486\n",
              "gymboree                 52661\n",
              "Zara                     41736\n",
              "Gap                      23178\n",
              "The Children's Place     21073\n",
              "Name: Brand, dtype: int64"
            ]
          },
          "metadata": {},
          "execution_count": 59
        }
      ]
    },
    {
      "cell_type": "code",
      "source": [
        "X_input = adX_train[['Website', 'SizeLabel', 'Brand', 'colour',\n",
        "       'InteractionTime', 'Daysection', 'Dayofweek']]\n",
        "\n",
        "y_input = ady_train\n",
        "y_test = ady_test"
      ],
      "metadata": {
        "id": "UCOVaFH6jhxg"
      },
      "id": "UCOVaFH6jhxg",
      "execution_count": null,
      "outputs": []
    },
    {
      "cell_type": "code",
      "execution_count": 8,
      "id": "568917e7",
      "metadata": {
        "scrolled": true,
        "id": "568917e7",
        "outputId": "4de7d404-ccd8-458b-c3ad-6f08f236a5c6",
        "colab": {
          "base_uri": "https://localhost:8080/"
        }
      },
      "outputs": [
        {
          "output_type": "stream",
          "name": "stderr",
          "text": [
            "/usr/local/lib/python3.7/dist-packages/ipykernel_launcher.py:33: SettingWithCopyWarning: \n",
            "A value is trying to be set on a copy of a slice from a DataFrame\n",
            "\n",
            "See the caveats in the documentation: https://pandas.pydata.org/pandas-docs/stable/user_guide/indexing.html#returning-a-view-versus-a-copy\n"
          ]
        }
      ],
      "source": [
        "## Decide output, split testdata\n",
        "from sklearn.model_selection import train_test_split\n",
        "X = Origin.drop(columns=['Action'])\n",
        "y = Origin['Action']\n",
        "\n",
        "adX_train, adX_test, ady_train, ady_test = train_test_split(X, y, test_size=0.25)\n",
        "\n",
        "## Feature engineering from ctrX_train\n",
        "\n",
        "## fillna\n",
        "ITmean = adX_train['InteractionTime'].mean() \n",
        "adX_train['InteractionTime'] = adX_train['InteractionTime'].fillna(ITmean)\n",
        "#datetime engineering \n",
        "adX_train['ActionTime']=pd.to_datetime(adX_train['ActionTime'].astype('float64')/10**6, unit='s')\n",
        "\n",
        "hr = pd.to_datetime(adX_train ['ActionTime']).dt.hour\n",
        "time = [0, 2, 6, 9, 11,19, 24]\n",
        "time_name = ['late_night', 'early_morning', 'morning', 'noon', 'afternoon', 'evening']\n",
        "adX_train['Daysection'] = pd.cut(hr, bins=time, labels=time_name)\n",
        "\n",
        "def wd(a):\n",
        "    if a==5 or a==6:\n",
        "        b='weekend'\n",
        "    else:\n",
        "        b='weekday'\n",
        "    return b\n",
        "\n",
        "adX_train['Dayofweek'] = pd.to_datetime(adX_train ['ActionTime']).dt.dayofweek.apply(wd)\n",
        "\n",
        "# Banner Size\n",
        "adX_train['BannerSize'] = adX_train['BannerSize'].str.extract(r'(\\d+)x').fillna(0).astype(int) * adX_train['BannerSize'].str.extract(r'x(\\d+)').fillna(0).astype(int)\n",
        "AvgBan = adX_train['BannerSize'].mean()\n",
        "adX_train['BannerSize'][adX_train['BannerSize'] == 0] = AvgBan\n",
        "\n",
        "#Threshold Capping BannerSize, InteractionTime\n",
        "def TCap(columns):\n",
        "    for i in columns:\n",
        "        q1, q3 = adX_train[i].quantile([0.25, .75])\n",
        "\n",
        "        iqr = q3 - q1\n",
        "\n",
        "        top_boundary = q3 + (iqr * 1.5)\n",
        "\n",
        "        adX_train.loc[adX_train[i] >= top_boundary,[i]] = top_boundary\n",
        "TCap_columns=['BannerSize', 'InteractionTime' ]\n",
        "## TCap(TCap_columns)\n",
        "     \n",
        "## arrange inputs and outputs\n",
        "unusedcolumns = []\n",
        "X_input = adX_train[['Website', 'BannerSize', 'Brand', 'colour',\n",
        "       'InteractionTime', 'Daysection', 'Dayofweek']]\n",
        "\n",
        "y_input = ady_train\n",
        "y_test = ady_test\n",
        "     \n",
        "\n"
      ]
    },
    {
      "cell_type": "code",
      "source": [
        "X_input.head()"
      ],
      "metadata": {
        "colab": {
          "base_uri": "https://localhost:8080/",
          "height": 237
        },
        "id": "tqCLl7F1cKfp",
        "outputId": "033d00e4-22c7-4783-adfb-dec327dc67da"
      },
      "id": "tqCLl7F1cKfp",
      "execution_count": 9,
      "outputs": [
        {
          "output_type": "execute_result",
          "data": {
            "text/html": [
              "\n",
              "  <div id=\"df-84bb8a29-e553-4919-b0d1-8d3a1ee15ed5\">\n",
              "    <div class=\"colab-df-container\">\n",
              "      <div>\n",
              "<style scoped>\n",
              "    .dataframe tbody tr th:only-of-type {\n",
              "        vertical-align: middle;\n",
              "    }\n",
              "\n",
              "    .dataframe tbody tr th {\n",
              "        vertical-align: top;\n",
              "    }\n",
              "\n",
              "    .dataframe thead th {\n",
              "        text-align: right;\n",
              "    }\n",
              "</style>\n",
              "<table border=\"1\" class=\"dataframe\">\n",
              "  <thead>\n",
              "    <tr style=\"text-align: right;\">\n",
              "      <th></th>\n",
              "      <th>Website</th>\n",
              "      <th>BannerSize</th>\n",
              "      <th>Brand</th>\n",
              "      <th>colour</th>\n",
              "      <th>InteractionTime</th>\n",
              "      <th>Daysection</th>\n",
              "      <th>Dayofweek</th>\n",
              "    </tr>\n",
              "    <tr>\n",
              "      <th>Unnamed: 0</th>\n",
              "      <th></th>\n",
              "      <th></th>\n",
              "      <th></th>\n",
              "      <th></th>\n",
              "      <th></th>\n",
              "      <th></th>\n",
              "      <th></th>\n",
              "    </tr>\n",
              "  </thead>\n",
              "  <tbody>\n",
              "    <tr>\n",
              "      <th>454847</th>\n",
              "      <td>instagram.com</td>\n",
              "      <td>88478.473852</td>\n",
              "      <td>Carter's</td>\n",
              "      <td>Blue</td>\n",
              "      <td>1.366059</td>\n",
              "      <td>afternoon</td>\n",
              "      <td>weekday</td>\n",
              "    </tr>\n",
              "    <tr>\n",
              "      <th>209390</th>\n",
              "      <td>instagram.com</td>\n",
              "      <td>88478.473852</td>\n",
              "      <td>Disney</td>\n",
              "      <td>other</td>\n",
              "      <td>0.175974</td>\n",
              "      <td>evening</td>\n",
              "      <td>weekday</td>\n",
              "    </tr>\n",
              "    <tr>\n",
              "      <th>348206</th>\n",
              "      <td>Facebook</td>\n",
              "      <td>88478.473852</td>\n",
              "      <td>Disney</td>\n",
              "      <td>Gold</td>\n",
              "      <td>0.149630</td>\n",
              "      <td>afternoon</td>\n",
              "      <td>weekday</td>\n",
              "    </tr>\n",
              "    <tr>\n",
              "      <th>426062</th>\n",
              "      <td>Facebook</td>\n",
              "      <td>75000.000000</td>\n",
              "      <td>Burberry</td>\n",
              "      <td>Blue</td>\n",
              "      <td>0.646441</td>\n",
              "      <td>afternoon</td>\n",
              "      <td>weekend</td>\n",
              "    </tr>\n",
              "    <tr>\n",
              "      <th>859102</th>\n",
              "      <td>Facebook</td>\n",
              "      <td>180000.000000</td>\n",
              "      <td>Carter's</td>\n",
              "      <td>White</td>\n",
              "      <td>0.631212</td>\n",
              "      <td>evening</td>\n",
              "      <td>weekday</td>\n",
              "    </tr>\n",
              "  </tbody>\n",
              "</table>\n",
              "</div>\n",
              "      <button class=\"colab-df-convert\" onclick=\"convertToInteractive('df-84bb8a29-e553-4919-b0d1-8d3a1ee15ed5')\"\n",
              "              title=\"Convert this dataframe to an interactive table.\"\n",
              "              style=\"display:none;\">\n",
              "        \n",
              "  <svg xmlns=\"http://www.w3.org/2000/svg\" height=\"24px\"viewBox=\"0 0 24 24\"\n",
              "       width=\"24px\">\n",
              "    <path d=\"M0 0h24v24H0V0z\" fill=\"none\"/>\n",
              "    <path d=\"M18.56 5.44l.94 2.06.94-2.06 2.06-.94-2.06-.94-.94-2.06-.94 2.06-2.06.94zm-11 1L8.5 8.5l.94-2.06 2.06-.94-2.06-.94L8.5 2.5l-.94 2.06-2.06.94zm10 10l.94 2.06.94-2.06 2.06-.94-2.06-.94-.94-2.06-.94 2.06-2.06.94z\"/><path d=\"M17.41 7.96l-1.37-1.37c-.4-.4-.92-.59-1.43-.59-.52 0-1.04.2-1.43.59L10.3 9.45l-7.72 7.72c-.78.78-.78 2.05 0 2.83L4 21.41c.39.39.9.59 1.41.59.51 0 1.02-.2 1.41-.59l7.78-7.78 2.81-2.81c.8-.78.8-2.07 0-2.86zM5.41 20L4 18.59l7.72-7.72 1.47 1.35L5.41 20z\"/>\n",
              "  </svg>\n",
              "      </button>\n",
              "      \n",
              "  <style>\n",
              "    .colab-df-container {\n",
              "      display:flex;\n",
              "      flex-wrap:wrap;\n",
              "      gap: 12px;\n",
              "    }\n",
              "\n",
              "    .colab-df-convert {\n",
              "      background-color: #E8F0FE;\n",
              "      border: none;\n",
              "      border-radius: 50%;\n",
              "      cursor: pointer;\n",
              "      display: none;\n",
              "      fill: #1967D2;\n",
              "      height: 32px;\n",
              "      padding: 0 0 0 0;\n",
              "      width: 32px;\n",
              "    }\n",
              "\n",
              "    .colab-df-convert:hover {\n",
              "      background-color: #E2EBFA;\n",
              "      box-shadow: 0px 1px 2px rgba(60, 64, 67, 0.3), 0px 1px 3px 1px rgba(60, 64, 67, 0.15);\n",
              "      fill: #174EA6;\n",
              "    }\n",
              "\n",
              "    [theme=dark] .colab-df-convert {\n",
              "      background-color: #3B4455;\n",
              "      fill: #D2E3FC;\n",
              "    }\n",
              "\n",
              "    [theme=dark] .colab-df-convert:hover {\n",
              "      background-color: #434B5C;\n",
              "      box-shadow: 0px 1px 3px 1px rgba(0, 0, 0, 0.15);\n",
              "      filter: drop-shadow(0px 1px 2px rgba(0, 0, 0, 0.3));\n",
              "      fill: #FFFFFF;\n",
              "    }\n",
              "  </style>\n",
              "\n",
              "      <script>\n",
              "        const buttonEl =\n",
              "          document.querySelector('#df-84bb8a29-e553-4919-b0d1-8d3a1ee15ed5 button.colab-df-convert');\n",
              "        buttonEl.style.display =\n",
              "          google.colab.kernel.accessAllowed ? 'block' : 'none';\n",
              "\n",
              "        async function convertToInteractive(key) {\n",
              "          const element = document.querySelector('#df-84bb8a29-e553-4919-b0d1-8d3a1ee15ed5');\n",
              "          const dataTable =\n",
              "            await google.colab.kernel.invokeFunction('convertToInteractive',\n",
              "                                                     [key], {});\n",
              "          if (!dataTable) return;\n",
              "\n",
              "          const docLinkHtml = 'Like what you see? Visit the ' +\n",
              "            '<a target=\"_blank\" href=https://colab.research.google.com/notebooks/data_table.ipynb>data table notebook</a>'\n",
              "            + ' to learn more about interactive tables.';\n",
              "          element.innerHTML = '';\n",
              "          dataTable['output_type'] = 'display_data';\n",
              "          await google.colab.output.renderOutput(dataTable, element);\n",
              "          const docLink = document.createElement('div');\n",
              "          docLink.innerHTML = docLinkHtml;\n",
              "          element.appendChild(docLink);\n",
              "        }\n",
              "      </script>\n",
              "    </div>\n",
              "  </div>\n",
              "  "
            ],
            "text/plain": [
              "                  Website     BannerSize  ... Daysection Dayofweek\n",
              "Unnamed: 0                                ...                     \n",
              "454847      instagram.com   88478.473852  ...  afternoon   weekday\n",
              "209390      instagram.com   88478.473852  ...    evening   weekday\n",
              "348206           Facebook   88478.473852  ...  afternoon   weekday\n",
              "426062           Facebook   75000.000000  ...  afternoon   weekend\n",
              "859102           Facebook  180000.000000  ...    evening   weekday\n",
              "\n",
              "[5 rows x 7 columns]"
            ]
          },
          "metadata": {},
          "execution_count": 9
        }
      ]
    },
    {
      "cell_type": "code",
      "source": [
        "X_input['InteractionTime'].describe()"
      ],
      "metadata": {
        "colab": {
          "base_uri": "https://localhost:8080/"
        },
        "id": "l3Uysthr_-c5",
        "outputId": "47dfca7c-def0-40fb-fd96-d9a36ca6e4c2"
      },
      "id": "l3Uysthr_-c5",
      "execution_count": 11,
      "outputs": [
        {
          "output_type": "execute_result",
          "data": {
            "text/plain": [
              "count    750000.000000\n",
              "mean          0.998344\n",
              "std           0.996291\n",
              "min           0.000003\n",
              "25%           0.288916\n",
              "50%           0.693692\n",
              "75%           1.383195\n",
              "max          13.385281\n",
              "Name: InteractionTime, dtype: float64"
            ]
          },
          "metadata": {},
          "execution_count": 11
        }
      ]
    },
    {
      "cell_type": "code",
      "source": [
        "def FeatureEngineering(X):\n",
        "    ITmean = X['InteractionTime'].mean() \n",
        "    X['InteractionTime'] = X['InteractionTime'].fillna(ITmean)\n",
        "    #datetime engineering \n",
        "    X['ActionTime']=pd.to_datetime(X['ActionTime'].astype('float64')/10**6, unit='s')\n",
        "\n",
        "    hr = pd.to_datetime(X['ActionTime']).dt.hour\n",
        "    time = [0, 2, 6, 9, 11,19, 24]\n",
        "    time_name = ['late_night', 'early_morning', 'morning', 'noon', 'afternoon', 'evening']\n",
        "    X['Daysection'] = pd.cut(hr, bins=time, labels=time_name)\n",
        "\n",
        "    def wd(a):\n",
        "        if a==5 or a==6:\n",
        "            b='weekend'\n",
        "        else:\n",
        "            b='weekday'\n",
        "        return b\n",
        "\n",
        "    X['Dayofweek'] = pd.to_datetime(X['ActionTime']).dt.dayofweek.apply(wd)\n",
        "\n",
        "    # Banner Size\n",
        "    X['BannerSize'] = X['BannerSize'].str.extract(r'(\\d+)x').fillna(0).astype(int) * X['BannerSize'].str.extract(r'x(\\d+)').fillna(0).astype(int)\n",
        "    AvgBan = X['BannerSize'].mean()\n",
        "    X['BannerSize'][X['BannerSize'] == 0] = AvgBan\n",
        "\n",
        "    #Threshold Capping BannerSize, InteractionTime\n",
        "    def TCap(columns):\n",
        "        for i in columns:\n",
        "            q1, q3 = X[i].quantile([0.25, .75])\n",
        "\n",
        "            iqr = q3 - q1\n",
        "\n",
        "            top_boundary = q3 + (iqr * 1.5)\n",
        "\n",
        "            X.loc[X[i] >= top_boundary,[i]] = top_boundary\n",
        "    TCap_columns=['BannerSize', 'InteractionTime' ]\n",
        "    TCap(TCap_columns)\n",
        "    X = X[['ID', 'Website', 'BannerSize', 'Brand', 'colour',\n",
        "       'InteractionTime', 'Daysection', 'Dayofweek']]\n",
        "    return X"
      ],
      "metadata": {
        "id": "7Wq6_8wbT5Qn"
      },
      "id": "7Wq6_8wbT5Qn",
      "execution_count": null,
      "outputs": []
    },
    {
      "cell_type": "code",
      "source": [
        "X_test = FeatureEngineering(adX_test)  \n",
        "\n",
        "\n",
        "## inputs and test sets\n",
        "[X_input.shape, X_test.shape, y_input.shape, y_test.shape]"
      ],
      "metadata": {
        "id": "S7YrU8SCT6Tt",
        "colab": {
          "base_uri": "https://localhost:8080/"
        },
        "outputId": "2f45dced-5ccc-4713-ee00-2034a470ed38"
      },
      "id": "S7YrU8SCT6Tt",
      "execution_count": null,
      "outputs": [
        {
          "output_type": "stream",
          "name": "stderr",
          "text": [
            "/usr/local/lib/python3.7/dist-packages/ipykernel_launcher.py:24: SettingWithCopyWarning: \n",
            "A value is trying to be set on a copy of a slice from a DataFrame\n",
            "\n",
            "See the caveats in the documentation: https://pandas.pydata.org/pandas-docs/stable/user_guide/indexing.html#returning-a-view-versus-a-copy\n"
          ]
        },
        {
          "output_type": "execute_result",
          "data": {
            "text/plain": [
              "[(750000, 8), (250000, 8), (750000,), (250000,)]"
            ]
          },
          "metadata": {},
          "execution_count": 23
        }
      ]
    },
    {
      "cell_type": "markdown",
      "source": [
        "# MACHINE LERNING MODEL DEVELOPMENT"
      ],
      "metadata": {
        "id": "jS_NYPzknpuL"
      },
      "id": "jS_NYPzknpuL"
    },
    {
      "cell_type": "code",
      "execution_count": null,
      "id": "d75fae0f",
      "metadata": {
        "id": "d75fae0f"
      },
      "outputs": [],
      "source": [
        "from sklearn.ensemble import StackingClassifier\n",
        "from sklearn.ensemble import RandomForestClassifier\n",
        "from sklearn.neighbors import KNeighborsClassifier\n",
        "from xgboost import XGBClassifier\n",
        "\n",
        "\n",
        "estimators = [\n",
        "    ##('knn', KNeighborsClassifier(n_neighbors=5)),\n",
        "    ##('dt', DecisionTreeClassifier()),\n",
        "    ('lr', LogisticRegression()),\n",
        "    ('rf', RandomForestClassifier()),\n",
        "    ##('xgb', XGBClassifier(max_depth=3,min_child_weight=1.5))\n",
        "]\n",
        "\n",
        "clf = StackingClassifier(\n",
        "    estimators=estimators, final_estimator=LogisticRegression()\n",
        ")"
      ]
    },
    {
      "cell_type": "code",
      "execution_count": null,
      "id": "7d8aa92e",
      "metadata": {
        "id": "7d8aa92e",
        "outputId": "1b89aba0-60a8-4c50-cdc4-5c8c058f9c67",
        "colab": {
          "base_uri": "https://localhost:8080/"
        }
      },
      "outputs": [
        {
          "output_type": "stream",
          "name": "stdout",
          "text": [
            "Fitting 3 folds for each of 2 candidates, totalling 6 fits\n"
          ]
        },
        {
          "output_type": "stream",
          "name": "stderr",
          "text": [
            "/usr/local/lib/python3.7/dist-packages/sklearn/model_selection/_search.py:972: UserWarning: One or more of the test scores are non-finite: [nan nan]\n",
            "  category=UserWarning,\n",
            "/usr/local/lib/python3.7/dist-packages/sklearn/linear_model/_logistic.py:818: ConvergenceWarning: lbfgs failed to converge (status=1):\n",
            "STOP: TOTAL NO. of ITERATIONS REACHED LIMIT.\n",
            "\n",
            "Increase the number of iterations (max_iter) or scale the data as shown in:\n",
            "    https://scikit-learn.org/stable/modules/preprocessing.html\n",
            "Please also refer to the documentation for alternative solver options:\n",
            "    https://scikit-learn.org/stable/modules/linear_model.html#logistic-regression\n",
            "  extra_warning_msg=_LOGISTIC_SOLVER_CONVERGENCE_MSG,\n",
            "/usr/local/lib/python3.7/dist-packages/sklearn/linear_model/_logistic.py:818: ConvergenceWarning: lbfgs failed to converge (status=1):\n",
            "STOP: TOTAL NO. of ITERATIONS REACHED LIMIT.\n",
            "\n",
            "Increase the number of iterations (max_iter) or scale the data as shown in:\n",
            "    https://scikit-learn.org/stable/modules/preprocessing.html\n",
            "Please also refer to the documentation for alternative solver options:\n",
            "    https://scikit-learn.org/stable/modules/linear_model.html#logistic-regression\n",
            "  extra_warning_msg=_LOGISTIC_SOLVER_CONVERGENCE_MSG,\n"
          ]
        },
        {
          "output_type": "execute_result",
          "data": {
            "text/plain": [
              "GridSearchCV(cv=3,\n",
              "             estimator=Pipeline(steps=[('OHE', OneHotEncoder()),\n",
              "                                       ('o',\n",
              "                                        RandomOverSampler(random_state=42)),\n",
              "                                       ('scaling',\n",
              "                                        StandardScaler(with_mean=False)),\n",
              "                                       ('simpleimputer', SimpleImputer()),\n",
              "                                       ('clf',\n",
              "                                        StackingClassifier(estimators=[('lr',\n",
              "                                                                        LogisticRegression()),\n",
              "                                                                       ('rf',\n",
              "                                                                        RandomForestClassifier())],\n",
              "                                                           final_estimator=LogisticRegression()))]),\n",
              "             n_jobs=2,\n",
              "             param_grid={'clf__lr__penalty': ['l2'],\n",
              "                         'clf__rf__max_depth': [10, 15],\n",
              "                         'o__sampling_strategy': [0.8]},\n",
              "             scoring='f1', verbose=4)"
            ]
          },
          "metadata": {},
          "execution_count": 25
        }
      ],
      "source": [
        "from sklearn.preprocessing import OneHotEncoder\n",
        "ros = RandomOverSampler(random_state=42)\n",
        "##X_resampled_click, y_resampled_click = ros.fit_resample(X_input_click, y_input_click)\n",
        "from sklearn.decomposition import PCA\n",
        "\n",
        "## use GridSearch to tune the hyperparameters\n",
        "pipe = Pipeline([\n",
        "        ('OHE', OneHotEncoder()),\n",
        "      ##('Smote',SMOTE()),\n",
        "        ('o', ros), \n",
        "        ##('u', rus),\n",
        "     ## ('scaling', MaxAbsScaler()),\n",
        "     ##('scaling', RobustScaler()),\n",
        "     ('scaling', StandardScaler(with_mean=False)),\n",
        "    ('simpleimputer', SimpleImputer()),\n",
        "    ##('DT', DecisionTreeClassifier())\n",
        "    ##('LR', LogisticRegression())\n",
        "    ##('PCA', PCA(0.9)),\n",
        "    ('clf', clf)\n",
        "    \n",
        "        \n",
        "])\n",
        "\n",
        "parameters = {\n",
        "    'o__sampling_strategy':[0.8],\n",
        "    ##'clf__dt__max_depth':  [10, 20],\n",
        "    ##'clf__knn__n_neighbors': [5, 7],\n",
        "    'clf__lr__penalty':  ['l2'],\n",
        "    ##'clf__lr__C':  [20.0, 5.0, 1.0],\n",
        "    'clf__rf__max_depth':  [10,15],\n",
        "   ## 'clf__xgb__max_depth':  [3, 5],\n",
        "    ##'LR__solver': ['newton-cg', 'lbfgs', 'liblinear', 'sag', 'saga' ]\n",
        "}\n",
        "\n",
        "\n",
        "gs = GridSearchCV(pipe, parameters, cv=3, scoring='f1', n_jobs=2, verbose=4)\n",
        "\n",
        "gs.fit(X_input, y_input)\n",
        "## not enough time to finish running this"
      ]
    },
    {
      "cell_type": "code",
      "execution_count": null,
      "id": "ce1ffd26",
      "metadata": {
        "id": "ce1ffd26"
      },
      "outputs": [],
      "source": [
        "gs.best_params_\n",
        "\n"
      ]
    },
    {
      "cell_type": "code",
      "execution_count": null,
      "id": "a00ab6a0",
      "metadata": {
        "id": "a00ab6a0"
      },
      "outputs": [],
      "source": [
        "best_model = gs.best_estimator_\n",
        "y_pred = best_model.predict(X_test)\n",
        "print(classification_report(y_test, y_pred))"
      ]
    }
  ],
  "metadata": {
    "kernelspec": {
      "display_name": "Python 3",
      "language": "python",
      "name": "python3"
    },
    "language_info": {
      "codemirror_mode": {
        "name": "ipython",
        "version": 3
      },
      "file_extension": ".py",
      "mimetype": "text/x-python",
      "name": "python",
      "nbconvert_exporter": "python",
      "pygments_lexer": "ipython3",
      "version": "3.8.8"
    },
    "colab": {
      "name": "Test script by Lin Xie.ipynb",
      "provenance": [],
      "collapsed_sections": [],
      "toc_visible": true
    }
  },
  "nbformat": 4,
  "nbformat_minor": 5
}