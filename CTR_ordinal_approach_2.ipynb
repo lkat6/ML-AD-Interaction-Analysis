{
  "cells": [
    {
      "cell_type": "markdown",
      "source": [
        "# INTRODUCTION"
      ],
      "metadata": {
        "id": "O4Swz1o8npBs"
      },
      "id": "O4Swz1o8npBs"
    },
    {
      "cell_type": "markdown",
      "source": [
        "A mega-online shopping mall provides various baby brands to customers. In order to optimize online advertisements throughout websites, they want to predict the view-to-click probability given the information below.\n",
        "\n",
        "The data consists of:\n",
        "\n",
        "Action: the “interaction” that users completed when online ad was exposed. There are two types of actions in this dataset, View (a.k.a Impression) or Click. (Reference: https://en.wikipedia.org/wiki/Impression_(online_media))\n",
        "ID: unique user IDs\n",
        "Action Time: the time when action (View/Click) happened, in microseconds format\n",
        "Website: the website where the ad was published\n",
        "Banner Size: the banner size of ad\n",
        "Brand: the brand name that the ad was promoting\n",
        "Colour: the colour of product showcased in the ad\n",
        "Interaction Time: user’s interaction time with each ad (sec)\n",
        "\n",
        "Goal: Predict the Likelihood of Click"
      ],
      "metadata": {
        "id": "khWdk5pUnv7M"
      },
      "id": "khWdk5pUnv7M"
    },
    {
      "cell_type": "code",
      "source": [
        "from google.colab import drive\n",
        "drive.mount('/content/drive')"
      ],
      "metadata": {
        "colab": {
          "base_uri": "https://localhost:8080/"
        },
        "id": "fscYB-A8ReL-",
        "outputId": "dc2051f2-9cbe-4dd7-ce3e-213fd750beb4"
      },
      "id": "fscYB-A8ReL-",
      "execution_count": 187,
      "outputs": [
        {
          "output_type": "stream",
          "name": "stdout",
          "text": [
            "Drive already mounted at /content/drive; to attempt to forcibly remount, call drive.mount(\"/content/drive\", force_remount=True).\n"
          ]
        }
      ]
    },
    {
      "cell_type": "code",
      "execution_count": 188,
      "id": "f00aef8b",
      "metadata": {
        "colab": {
          "base_uri": "https://localhost:8080/"
        },
        "id": "f00aef8b",
        "outputId": "c6894df0-e217-4cc3-d65c-2bcc8afc20f9"
      },
      "outputs": [
        {
          "output_type": "stream",
          "name": "stdout",
          "text": [
            "Requirement already satisfied: SQLAlchemy in /usr/local/lib/python3.7/dist-packages (1.4.31)\n",
            "Requirement already satisfied: importlib-metadata in /usr/local/lib/python3.7/dist-packages (from SQLAlchemy) (4.11.0)\n",
            "Requirement already satisfied: greenlet!=0.4.17 in /usr/local/lib/python3.7/dist-packages (from SQLAlchemy) (1.1.2)\n",
            "Requirement already satisfied: typing-extensions>=3.6.4 in /usr/local/lib/python3.7/dist-packages (from importlib-metadata->SQLAlchemy) (3.10.0.2)\n",
            "Requirement already satisfied: zipp>=0.5 in /usr/local/lib/python3.7/dist-packages (from importlib-metadata->SQLAlchemy) (3.7.0)\n",
            "Requirement already satisfied: pymysql in /usr/local/lib/python3.7/dist-packages (1.0.2)\n"
          ]
        }
      ],
      "source": [
        "import pandas as pd\n",
        "!pip install SQLAlchemy\n",
        "!pip install pymysql\n",
        "from sqlalchemy import create_engine\n",
        "import pymysql\n",
        "import configparser\n",
        "import matplotlib.pyplot as plt\n",
        "from sklearn.linear_model import LogisticRegression\n",
        "from sklearn.linear_model import LinearRegression\n",
        "from sklearn.preprocessing import StandardScaler,MinMaxScaler, RobustScaler\n",
        "from sklearn.metrics import classification_report\n",
        "from sklearn.model_selection import GridSearchCV\n",
        "from imblearn.pipeline import make_pipeline,Pipeline\n",
        "from sklearn.impute import SimpleImputer\n",
        "from imblearn.over_sampling import RandomOverSampler\n",
        "from sklearn.tree import DecisionTreeClassifier\n",
        "from imblearn.under_sampling import RandomUnderSampler\n",
        "from sklearn.ensemble import RandomForestClassifier\n",
        "from sklearn.tree import DecisionTreeRegressor\n",
        "from sklearn.metrics import confusion_matrix, accuracy_score, precision_recall_curve, f1_score, precision_score, recall_score"
      ]
    },
    {
      "cell_type": "code",
      "execution_count": 189,
      "id": "41f8983c",
      "metadata": {
        "scrolled": false,
        "colab": {
          "base_uri": "https://localhost:8080/",
          "height": 238
        },
        "id": "41f8983c",
        "outputId": "c15244f0-66df-41e0-ee13-3362bf58dd3b"
      },
      "outputs": [
        {
          "output_type": "execute_result",
          "data": {
            "text/html": [
              "\n",
              "  <div id=\"df-d4d89956-adb7-47cd-a4c2-2743695bad4d\">\n",
              "    <div class=\"colab-df-container\">\n",
              "      <div>\n",
              "<style scoped>\n",
              "    .dataframe tbody tr th:only-of-type {\n",
              "        vertical-align: middle;\n",
              "    }\n",
              "\n",
              "    .dataframe tbody tr th {\n",
              "        vertical-align: top;\n",
              "    }\n",
              "\n",
              "    .dataframe thead th {\n",
              "        text-align: right;\n",
              "    }\n",
              "</style>\n",
              "<table border=\"1\" class=\"dataframe\">\n",
              "  <thead>\n",
              "    <tr style=\"text-align: right;\">\n",
              "      <th></th>\n",
              "      <th>ID</th>\n",
              "      <th>ActionTime</th>\n",
              "      <th>Action</th>\n",
              "      <th>Website</th>\n",
              "      <th>BannerSize</th>\n",
              "      <th>Brand</th>\n",
              "      <th>colour</th>\n",
              "      <th>InteractionTime</th>\n",
              "    </tr>\n",
              "    <tr>\n",
              "      <th>Unnamed: 0</th>\n",
              "      <th></th>\n",
              "      <th></th>\n",
              "      <th></th>\n",
              "      <th></th>\n",
              "      <th></th>\n",
              "      <th></th>\n",
              "      <th></th>\n",
              "      <th></th>\n",
              "    </tr>\n",
              "  </thead>\n",
              "  <tbody>\n",
              "    <tr>\n",
              "      <th>1</th>\n",
              "      <td>AMsySZbNg8SBwPtj7IGHnip_8aY0</td>\n",
              "      <td>1508761859495365</td>\n",
              "      <td>View</td>\n",
              "      <td>Facebook</td>\n",
              "      <td>300x600</td>\n",
              "      <td>Carter's</td>\n",
              "      <td>Pink</td>\n",
              "      <td>0.171601</td>\n",
              "    </tr>\n",
              "    <tr>\n",
              "      <th>2</th>\n",
              "      <td>AMsySZZcUFNGOJs-lfC9j-ZDlV7Z</td>\n",
              "      <td>1502847469736117</td>\n",
              "      <td>View</td>\n",
              "      <td>Facebook</td>\n",
              "      <td>300x250</td>\n",
              "      <td>Burberry</td>\n",
              "      <td>Red</td>\n",
              "      <td>4.303945</td>\n",
              "    </tr>\n",
              "    <tr>\n",
              "      <th>3</th>\n",
              "      <td>AMsySZYoK8_bD0hGv4zu0iRn1TFo</td>\n",
              "      <td>1514169431528120</td>\n",
              "      <td>View</td>\n",
              "      <td>Facebook</td>\n",
              "      <td>728x90</td>\n",
              "      <td>Disney</td>\n",
              "      <td>Yellow</td>\n",
              "      <td>0.868106</td>\n",
              "    </tr>\n",
              "    <tr>\n",
              "      <th>4</th>\n",
              "      <td>AMsySZahxpwLOWnMJj6RGATgwEOc</td>\n",
              "      <td>1515527952591896</td>\n",
              "      <td>View</td>\n",
              "      <td>Facebook</td>\n",
              "      <td>320x50</td>\n",
              "      <td>Carter's</td>\n",
              "      <td>Yellow</td>\n",
              "      <td>0.802647</td>\n",
              "    </tr>\n",
              "    <tr>\n",
              "      <th>5</th>\n",
              "      <td>AMsySZbqgfMBDtAqZz1jVRaOmX00</td>\n",
              "      <td>1507514809374045</td>\n",
              "      <td>View</td>\n",
              "      <td>instagram.com</td>\n",
              "      <td>300x250</td>\n",
              "      <td>Gap</td>\n",
              "      <td>Gold</td>\n",
              "      <td>0.627148</td>\n",
              "    </tr>\n",
              "  </tbody>\n",
              "</table>\n",
              "</div>\n",
              "      <button class=\"colab-df-convert\" onclick=\"convertToInteractive('df-d4d89956-adb7-47cd-a4c2-2743695bad4d')\"\n",
              "              title=\"Convert this dataframe to an interactive table.\"\n",
              "              style=\"display:none;\">\n",
              "        \n",
              "  <svg xmlns=\"http://www.w3.org/2000/svg\" height=\"24px\"viewBox=\"0 0 24 24\"\n",
              "       width=\"24px\">\n",
              "    <path d=\"M0 0h24v24H0V0z\" fill=\"none\"/>\n",
              "    <path d=\"M18.56 5.44l.94 2.06.94-2.06 2.06-.94-2.06-.94-.94-2.06-.94 2.06-2.06.94zm-11 1L8.5 8.5l.94-2.06 2.06-.94-2.06-.94L8.5 2.5l-.94 2.06-2.06.94zm10 10l.94 2.06.94-2.06 2.06-.94-2.06-.94-.94-2.06-.94 2.06-2.06.94z\"/><path d=\"M17.41 7.96l-1.37-1.37c-.4-.4-.92-.59-1.43-.59-.52 0-1.04.2-1.43.59L10.3 9.45l-7.72 7.72c-.78.78-.78 2.05 0 2.83L4 21.41c.39.39.9.59 1.41.59.51 0 1.02-.2 1.41-.59l7.78-7.78 2.81-2.81c.8-.78.8-2.07 0-2.86zM5.41 20L4 18.59l7.72-7.72 1.47 1.35L5.41 20z\"/>\n",
              "  </svg>\n",
              "      </button>\n",
              "      \n",
              "  <style>\n",
              "    .colab-df-container {\n",
              "      display:flex;\n",
              "      flex-wrap:wrap;\n",
              "      gap: 12px;\n",
              "    }\n",
              "\n",
              "    .colab-df-convert {\n",
              "      background-color: #E8F0FE;\n",
              "      border: none;\n",
              "      border-radius: 50%;\n",
              "      cursor: pointer;\n",
              "      display: none;\n",
              "      fill: #1967D2;\n",
              "      height: 32px;\n",
              "      padding: 0 0 0 0;\n",
              "      width: 32px;\n",
              "    }\n",
              "\n",
              "    .colab-df-convert:hover {\n",
              "      background-color: #E2EBFA;\n",
              "      box-shadow: 0px 1px 2px rgba(60, 64, 67, 0.3), 0px 1px 3px 1px rgba(60, 64, 67, 0.15);\n",
              "      fill: #174EA6;\n",
              "    }\n",
              "\n",
              "    [theme=dark] .colab-df-convert {\n",
              "      background-color: #3B4455;\n",
              "      fill: #D2E3FC;\n",
              "    }\n",
              "\n",
              "    [theme=dark] .colab-df-convert:hover {\n",
              "      background-color: #434B5C;\n",
              "      box-shadow: 0px 1px 3px 1px rgba(0, 0, 0, 0.15);\n",
              "      filter: drop-shadow(0px 1px 2px rgba(0, 0, 0, 0.3));\n",
              "      fill: #FFFFFF;\n",
              "    }\n",
              "  </style>\n",
              "\n",
              "      <script>\n",
              "        const buttonEl =\n",
              "          document.querySelector('#df-d4d89956-adb7-47cd-a4c2-2743695bad4d button.colab-df-convert');\n",
              "        buttonEl.style.display =\n",
              "          google.colab.kernel.accessAllowed ? 'block' : 'none';\n",
              "\n",
              "        async function convertToInteractive(key) {\n",
              "          const element = document.querySelector('#df-d4d89956-adb7-47cd-a4c2-2743695bad4d');\n",
              "          const dataTable =\n",
              "            await google.colab.kernel.invokeFunction('convertToInteractive',\n",
              "                                                     [key], {});\n",
              "          if (!dataTable) return;\n",
              "\n",
              "          const docLinkHtml = 'Like what you see? Visit the ' +\n",
              "            '<a target=\"_blank\" href=https://colab.research.google.com/notebooks/data_table.ipynb>data table notebook</a>'\n",
              "            + ' to learn more about interactive tables.';\n",
              "          element.innerHTML = '';\n",
              "          dataTable['output_type'] = 'display_data';\n",
              "          await google.colab.output.renderOutput(dataTable, element);\n",
              "          const docLink = document.createElement('div');\n",
              "          docLink.innerHTML = docLinkHtml;\n",
              "          element.appendChild(docLink);\n",
              "        }\n",
              "      </script>\n",
              "    </div>\n",
              "  </div>\n",
              "  "
            ],
            "text/plain": [
              "                                      ID  ...  InteractionTime\n",
              "Unnamed: 0                                ...                 \n",
              "1           AMsySZbNg8SBwPtj7IGHnip_8aY0  ...         0.171601\n",
              "2           AMsySZZcUFNGOJs-lfC9j-ZDlV7Z  ...         4.303945\n",
              "3           AMsySZYoK8_bD0hGv4zu0iRn1TFo  ...         0.868106\n",
              "4           AMsySZahxpwLOWnMJj6RGATgwEOc  ...         0.802647\n",
              "5           AMsySZbqgfMBDtAqZz1jVRaOmX00  ...         0.627148\n",
              "\n",
              "[5 rows x 8 columns]"
            ]
          },
          "metadata": {},
          "execution_count": 189
        }
      ],
      "source": [
        "## read data from ctrdata.csv\n",
        "Origin = pd.read_csv('/content/drive/My Drive/website project/test3_data.csv')\n",
        "Origin = Origin.set_index('Unnamed: 0')\n",
        "Origin.head()"
      ]
    },
    {
      "cell_type": "markdown",
      "source": [
        "# EDA & EXAMINATION"
      ],
      "metadata": {
        "id": "aUE233yLk4ZG"
      },
      "id": "aUE233yLk4ZG"
    },
    {
      "cell_type": "code",
      "source": [
        "## Convert outcomes to 1 or 0 \n",
        "Origin['Action'] = Origin['Action'].replace({'View':0,'Click':1})\n",
        "Origin.head()"
      ],
      "metadata": {
        "colab": {
          "base_uri": "https://localhost:8080/",
          "height": 238
        },
        "id": "dmrzM9wOSJQO",
        "outputId": "3a438135-fe9e-448b-fd9a-80ca090d010c"
      },
      "id": "dmrzM9wOSJQO",
      "execution_count": 190,
      "outputs": [
        {
          "output_type": "execute_result",
          "data": {
            "text/html": [
              "\n",
              "  <div id=\"df-b7939b6c-f4c0-4c7f-bf6d-56d002422e8f\">\n",
              "    <div class=\"colab-df-container\">\n",
              "      <div>\n",
              "<style scoped>\n",
              "    .dataframe tbody tr th:only-of-type {\n",
              "        vertical-align: middle;\n",
              "    }\n",
              "\n",
              "    .dataframe tbody tr th {\n",
              "        vertical-align: top;\n",
              "    }\n",
              "\n",
              "    .dataframe thead th {\n",
              "        text-align: right;\n",
              "    }\n",
              "</style>\n",
              "<table border=\"1\" class=\"dataframe\">\n",
              "  <thead>\n",
              "    <tr style=\"text-align: right;\">\n",
              "      <th></th>\n",
              "      <th>ID</th>\n",
              "      <th>ActionTime</th>\n",
              "      <th>Action</th>\n",
              "      <th>Website</th>\n",
              "      <th>BannerSize</th>\n",
              "      <th>Brand</th>\n",
              "      <th>colour</th>\n",
              "      <th>InteractionTime</th>\n",
              "    </tr>\n",
              "    <tr>\n",
              "      <th>Unnamed: 0</th>\n",
              "      <th></th>\n",
              "      <th></th>\n",
              "      <th></th>\n",
              "      <th></th>\n",
              "      <th></th>\n",
              "      <th></th>\n",
              "      <th></th>\n",
              "      <th></th>\n",
              "    </tr>\n",
              "  </thead>\n",
              "  <tbody>\n",
              "    <tr>\n",
              "      <th>1</th>\n",
              "      <td>AMsySZbNg8SBwPtj7IGHnip_8aY0</td>\n",
              "      <td>1508761859495365</td>\n",
              "      <td>0</td>\n",
              "      <td>Facebook</td>\n",
              "      <td>300x600</td>\n",
              "      <td>Carter's</td>\n",
              "      <td>Pink</td>\n",
              "      <td>0.171601</td>\n",
              "    </tr>\n",
              "    <tr>\n",
              "      <th>2</th>\n",
              "      <td>AMsySZZcUFNGOJs-lfC9j-ZDlV7Z</td>\n",
              "      <td>1502847469736117</td>\n",
              "      <td>0</td>\n",
              "      <td>Facebook</td>\n",
              "      <td>300x250</td>\n",
              "      <td>Burberry</td>\n",
              "      <td>Red</td>\n",
              "      <td>4.303945</td>\n",
              "    </tr>\n",
              "    <tr>\n",
              "      <th>3</th>\n",
              "      <td>AMsySZYoK8_bD0hGv4zu0iRn1TFo</td>\n",
              "      <td>1514169431528120</td>\n",
              "      <td>0</td>\n",
              "      <td>Facebook</td>\n",
              "      <td>728x90</td>\n",
              "      <td>Disney</td>\n",
              "      <td>Yellow</td>\n",
              "      <td>0.868106</td>\n",
              "    </tr>\n",
              "    <tr>\n",
              "      <th>4</th>\n",
              "      <td>AMsySZahxpwLOWnMJj6RGATgwEOc</td>\n",
              "      <td>1515527952591896</td>\n",
              "      <td>0</td>\n",
              "      <td>Facebook</td>\n",
              "      <td>320x50</td>\n",
              "      <td>Carter's</td>\n",
              "      <td>Yellow</td>\n",
              "      <td>0.802647</td>\n",
              "    </tr>\n",
              "    <tr>\n",
              "      <th>5</th>\n",
              "      <td>AMsySZbqgfMBDtAqZz1jVRaOmX00</td>\n",
              "      <td>1507514809374045</td>\n",
              "      <td>0</td>\n",
              "      <td>instagram.com</td>\n",
              "      <td>300x250</td>\n",
              "      <td>Gap</td>\n",
              "      <td>Gold</td>\n",
              "      <td>0.627148</td>\n",
              "    </tr>\n",
              "  </tbody>\n",
              "</table>\n",
              "</div>\n",
              "      <button class=\"colab-df-convert\" onclick=\"convertToInteractive('df-b7939b6c-f4c0-4c7f-bf6d-56d002422e8f')\"\n",
              "              title=\"Convert this dataframe to an interactive table.\"\n",
              "              style=\"display:none;\">\n",
              "        \n",
              "  <svg xmlns=\"http://www.w3.org/2000/svg\" height=\"24px\"viewBox=\"0 0 24 24\"\n",
              "       width=\"24px\">\n",
              "    <path d=\"M0 0h24v24H0V0z\" fill=\"none\"/>\n",
              "    <path d=\"M18.56 5.44l.94 2.06.94-2.06 2.06-.94-2.06-.94-.94-2.06-.94 2.06-2.06.94zm-11 1L8.5 8.5l.94-2.06 2.06-.94-2.06-.94L8.5 2.5l-.94 2.06-2.06.94zm10 10l.94 2.06.94-2.06 2.06-.94-2.06-.94-.94-2.06-.94 2.06-2.06.94z\"/><path d=\"M17.41 7.96l-1.37-1.37c-.4-.4-.92-.59-1.43-.59-.52 0-1.04.2-1.43.59L10.3 9.45l-7.72 7.72c-.78.78-.78 2.05 0 2.83L4 21.41c.39.39.9.59 1.41.59.51 0 1.02-.2 1.41-.59l7.78-7.78 2.81-2.81c.8-.78.8-2.07 0-2.86zM5.41 20L4 18.59l7.72-7.72 1.47 1.35L5.41 20z\"/>\n",
              "  </svg>\n",
              "      </button>\n",
              "      \n",
              "  <style>\n",
              "    .colab-df-container {\n",
              "      display:flex;\n",
              "      flex-wrap:wrap;\n",
              "      gap: 12px;\n",
              "    }\n",
              "\n",
              "    .colab-df-convert {\n",
              "      background-color: #E8F0FE;\n",
              "      border: none;\n",
              "      border-radius: 50%;\n",
              "      cursor: pointer;\n",
              "      display: none;\n",
              "      fill: #1967D2;\n",
              "      height: 32px;\n",
              "      padding: 0 0 0 0;\n",
              "      width: 32px;\n",
              "    }\n",
              "\n",
              "    .colab-df-convert:hover {\n",
              "      background-color: #E2EBFA;\n",
              "      box-shadow: 0px 1px 2px rgba(60, 64, 67, 0.3), 0px 1px 3px 1px rgba(60, 64, 67, 0.15);\n",
              "      fill: #174EA6;\n",
              "    }\n",
              "\n",
              "    [theme=dark] .colab-df-convert {\n",
              "      background-color: #3B4455;\n",
              "      fill: #D2E3FC;\n",
              "    }\n",
              "\n",
              "    [theme=dark] .colab-df-convert:hover {\n",
              "      background-color: #434B5C;\n",
              "      box-shadow: 0px 1px 3px 1px rgba(0, 0, 0, 0.15);\n",
              "      filter: drop-shadow(0px 1px 2px rgba(0, 0, 0, 0.3));\n",
              "      fill: #FFFFFF;\n",
              "    }\n",
              "  </style>\n",
              "\n",
              "      <script>\n",
              "        const buttonEl =\n",
              "          document.querySelector('#df-b7939b6c-f4c0-4c7f-bf6d-56d002422e8f button.colab-df-convert');\n",
              "        buttonEl.style.display =\n",
              "          google.colab.kernel.accessAllowed ? 'block' : 'none';\n",
              "\n",
              "        async function convertToInteractive(key) {\n",
              "          const element = document.querySelector('#df-b7939b6c-f4c0-4c7f-bf6d-56d002422e8f');\n",
              "          const dataTable =\n",
              "            await google.colab.kernel.invokeFunction('convertToInteractive',\n",
              "                                                     [key], {});\n",
              "          if (!dataTable) return;\n",
              "\n",
              "          const docLinkHtml = 'Like what you see? Visit the ' +\n",
              "            '<a target=\"_blank\" href=https://colab.research.google.com/notebooks/data_table.ipynb>data table notebook</a>'\n",
              "            + ' to learn more about interactive tables.';\n",
              "          element.innerHTML = '';\n",
              "          dataTable['output_type'] = 'display_data';\n",
              "          await google.colab.output.renderOutput(dataTable, element);\n",
              "          const docLink = document.createElement('div');\n",
              "          docLink.innerHTML = docLinkHtml;\n",
              "          element.appendChild(docLink);\n",
              "        }\n",
              "      </script>\n",
              "    </div>\n",
              "  </div>\n",
              "  "
            ],
            "text/plain": [
              "                                      ID  ...  InteractionTime\n",
              "Unnamed: 0                                ...                 \n",
              "1           AMsySZbNg8SBwPtj7IGHnip_8aY0  ...         0.171601\n",
              "2           AMsySZZcUFNGOJs-lfC9j-ZDlV7Z  ...         4.303945\n",
              "3           AMsySZYoK8_bD0hGv4zu0iRn1TFo  ...         0.868106\n",
              "4           AMsySZahxpwLOWnMJj6RGATgwEOc  ...         0.802647\n",
              "5           AMsySZbqgfMBDtAqZz1jVRaOmX00  ...         0.627148\n",
              "\n",
              "[5 rows x 8 columns]"
            ]
          },
          "metadata": {},
          "execution_count": 190
        }
      ]
    },
    {
      "cell_type": "code",
      "source": [
        "## Detemine output, split testdata\n",
        "from sklearn.model_selection import train_test_split\n",
        "X = Origin.drop(columns=['Action'])\n",
        "y = Origin['Action']\n",
        "\n",
        "adX_train, adX_test, ady_train, ady_test = train_test_split(X, y, test_size=0.25)\n",
        "adX_train.info()"
      ],
      "metadata": {
        "colab": {
          "base_uri": "https://localhost:8080/"
        },
        "id": "JXT6JsEoolZw",
        "outputId": "4a03f782-fbad-4be0-b6e3-2946a358d4a2"
      },
      "id": "JXT6JsEoolZw",
      "execution_count": 191,
      "outputs": [
        {
          "output_type": "stream",
          "name": "stdout",
          "text": [
            "<class 'pandas.core.frame.DataFrame'>\n",
            "Int64Index: 750000 entries, 8552 to 704722\n",
            "Data columns (total 7 columns):\n",
            " #   Column           Non-Null Count   Dtype  \n",
            "---  ------           --------------   -----  \n",
            " 0   ID               750000 non-null  object \n",
            " 1   ActionTime       750000 non-null  int64  \n",
            " 2   Website          750000 non-null  object \n",
            " 3   BannerSize       750000 non-null  object \n",
            " 4   Brand            750000 non-null  object \n",
            " 5   colour           750000 non-null  object \n",
            " 6   InteractionTime  749993 non-null  float64\n",
            "dtypes: float64(1), int64(1), object(5)\n",
            "memory usage: 45.8+ MB\n"
          ]
        }
      ]
    },
    {
      "cell_type": "code",
      "source": [
        "## Output distribution analysis\n",
        "ady_train.value_counts(normalize=True)\n",
        "## highly imbalance dataset"
      ],
      "metadata": {
        "colab": {
          "base_uri": "https://localhost:8080/"
        },
        "id": "9YukdYLgnGkJ",
        "outputId": "3417faa3-ace1-411b-c846-53e3c4b52c39"
      },
      "id": "9YukdYLgnGkJ",
      "execution_count": 192,
      "outputs": [
        {
          "output_type": "execute_result",
          "data": {
            "text/plain": [
              "0    0.999756\n",
              "1    0.000244\n",
              "Name: Action, dtype: float64"
            ]
          },
          "metadata": {},
          "execution_count": 192
        }
      ]
    },
    {
      "cell_type": "code",
      "source": [
        "## Feature Examination: ID \n",
        "adX_train['ID'].value_counts().describe()"
      ],
      "metadata": {
        "colab": {
          "base_uri": "https://localhost:8080/"
        },
        "id": "xBRi09d7nXcf",
        "outputId": "ececaf56-5a6f-4c09-87bb-cd8911cfccac"
      },
      "id": "xBRi09d7nXcf",
      "execution_count": 193,
      "outputs": [
        {
          "output_type": "execute_result",
          "data": {
            "text/plain": [
              "count    190302.000000\n",
              "mean          3.941104\n",
              "std          12.413647\n",
              "min           1.000000\n",
              "25%           1.000000\n",
              "50%           2.000000\n",
              "75%           3.000000\n",
              "max        1713.000000\n",
              "Name: ID, dtype: float64"
            ]
          },
          "metadata": {},
          "execution_count": 193
        }
      ]
    },
    {
      "cell_type": "code",
      "source": [
        "## Feature Examination: ID  \n",
        "data = adX_train['ID'].value_counts()\n",
        "# Boxplot the count of IDs\n",
        "fig = plt.figure()\n",
        "fig.suptitle('IDs on Record', fontsize=14, fontweight='bold')\n",
        "\n",
        "ax = fig.add_subplot(111)\n",
        "ax.boxplot(data)\n",
        "\n",
        "ax.set_xlabel('IDs')\n",
        "ax.set_ylabel('Frequency')\n",
        "\n",
        "plt.show(); \n",
        "## Base on the ID analysis, the times of ad viewing by different users range from 1 to almost 1750 times"
      ],
      "metadata": {
        "colab": {
          "base_uri": "https://localhost:8080/",
          "height": 308
        },
        "id": "5sWair2RlQSn",
        "outputId": "f759aec4-9f93-4ef8-eabc-58ef9fdd7002"
      },
      "id": "5sWair2RlQSn",
      "execution_count": 194,
      "outputs": [
        {
          "output_type": "display_data",
          "data": {
            "image/png": "[encoded data removed]",
            "text/plain": [
              "<Figure size 432x288 with 1 Axes>"
            ]
          },
          "metadata": {
            "needs_background": "light"
          }
        }
      ]
    },
    {
      "cell_type": "code",
      "source": [
        "## Feature Examination: Datetime \n",
        "adX_train['ActionTime']\n",
        "## the feature need to be converted to datime format"
      ],
      "metadata": {
        "colab": {
          "base_uri": "https://localhost:8080/"
        },
        "id": "_K1PX6XvNo3X",
        "outputId": "24dfd164-4275-4e3a-dfe5-17f1d3aa7cf6"
      },
      "id": "_K1PX6XvNo3X",
      "execution_count": 195,
      "outputs": [
        {
          "output_type": "execute_result",
          "data": {
            "text/plain": [
              "Unnamed: 0\n",
              "8552      1508095021841120\n",
              "500259    1514915161562649\n",
              "992611    1505008764846797\n",
              "62717     1510191958716247\n",
              "319809    1503675914332154\n",
              "                ...       \n",
              "840157    1505002713405655\n",
              "893988    1506091342899313\n",
              "962594    1513250928198855\n",
              "934438    1507134529633961\n",
              "704722    1505091987162293\n",
              "Name: ActionTime, Length: 750000, dtype: int64"
            ]
          },
          "metadata": {},
          "execution_count": 195
        }
      ]
    },
    {
      "cell_type": "code",
      "source": [
        "## Feature Examination: BannerSize \n",
        "adX_train['BannerSize'].value_counts().index\n",
        "## Need to convert the data from string to size numbers"
      ],
      "metadata": {
        "colab": {
          "base_uri": "https://localhost:8080/"
        },
        "id": "pgrdhepxXTnJ",
        "outputId": "249cebc6-026c-47cf-f93f-fd6de0b71f1c"
      },
      "id": "pgrdhepxXTnJ",
      "execution_count": 196,
      "outputs": [
        {
          "output_type": "execute_result",
          "data": {
            "text/plain": [
              "Index(['300x250', '728x90', 'Other', '320x50', '300x600', '160x600',\n",
              "       '1200x627', '1x1', '320x480', '300x50', '320x100', '768x1024',\n",
              "       '750x125', '1536x2048', 'other'],\n",
              "      dtype='object')"
            ]
          },
          "metadata": {},
          "execution_count": 196
        }
      ]
    },
    {
      "cell_type": "code",
      "source": [
        "## Feature Examination: BannerSize \n",
        "# Convert Banner Size to area sizes, set size(other) to 0\n",
        "adX_train['BannerSize'] = adX_train['BannerSize'].str.extract(r'(\\d+)x').fillna(0).astype(int) * adX_train['BannerSize'].str.extract(r'x(\\d+)').fillna(0).astype('int64')\n",
        "\n",
        "## Convert 0 value to mean size value\n",
        "Bannermean = adX_train['BannerSize'].mean()\n",
        "adX_train['BannerSize'] = adX_train['BannerSize'].replace(0,Bannermean)\n",
        "\n",
        "\n"
      ],
      "metadata": {
        "id": "bYJ6Ce0jn0Je"
      },
      "id": "bYJ6Ce0jn0Je",
      "execution_count": 197,
      "outputs": []
    },
    {
      "cell_type": "code",
      "source": [
        "plt.title('Distribution of Banner Size')\n",
        "plt.xlabel('Size of Banners(square mm)')\n",
        "plt.ylabel('Number')\n",
        "plt.hist(adX_train['BannerSize'],range=(0,100000)); \n",
        "## The Sizes can be further classified"
      ],
      "metadata": {
        "colab": {
          "base_uri": "https://localhost:8080/",
          "height": 295
        },
        "id": "DfG0LwG7ZTb8",
        "outputId": "94c74f42-4b18-4be8-91b9-ee8ea6ddbb33"
      },
      "id": "DfG0LwG7ZTb8",
      "execution_count": 198,
      "outputs": [
        {
          "output_type": "display_data",
          "data": {
            "image/png": "[encoded data removed]",
            "text/plain": [
              "<Figure size 432x288 with 1 Axes>"
            ]
          },
          "metadata": {
            "needs_background": "light"
          }
        }
      ]
    },
    {
      "cell_type": "code",
      "source": [
        "## Classify the Banner to different categories in terms of banner sizes\n",
        "data = adX_train['BannerSize']\n",
        "size = [0, 40000, 65000, 80000, 100000]\n",
        "\n",
        "## If the Banner size is 50000, this is a small size\n",
        "size_category = ['Very Small', 'Small', 'Regular', 'Large']\n",
        "adX_train['SizeLabel'] = pd.cut(data, bins=size, labels=size_category)\n",
        "adX_train['SizeLabel'].value_counts().plot(kind='bar');"
      ],
      "metadata": {
        "colab": {
          "base_uri": "https://localhost:8080/",
          "height": 308
        },
        "id": "zj0ETEn9gX95",
        "outputId": "d954da0c-f085-41f4-8214-5b3978b77c3f"
      },
      "id": "zj0ETEn9gX95",
      "execution_count": 199,
      "outputs": [
        {
          "output_type": "display_data",
          "data": {
            "image/png": "[encoded data removed]",
            "text/plain": [
              "<Figure size 432x288 with 1 Axes>"
            ]
          },
          "metadata": {
            "needs_background": "light"
          }
        }
      ]
    },
    {
      "cell_type": "code",
      "source": [
        "## Feature Examination: Interaction Time\n",
        "adX_train['InteractionTime'].describe()"
      ],
      "metadata": {
        "colab": {
          "base_uri": "https://localhost:8080/"
        },
        "id": "5EM6DE2dkcoo",
        "outputId": "5711e43f-d367-4c1a-b812-3e65a447aad1"
      },
      "id": "5EM6DE2dkcoo",
      "execution_count": 200,
      "outputs": [
        {
          "output_type": "execute_result",
          "data": {
            "text/plain": [
              "count    749993.000000\n",
              "mean          0.998408\n",
              "std           0.998672\n",
              "min           0.000002\n",
              "25%           0.288329\n",
              "50%           0.692552\n",
              "75%           1.381555\n",
              "max          13.385281\n",
              "Name: InteractionTime, dtype: float64"
            ]
          },
          "metadata": {},
          "execution_count": 200
        }
      ]
    },
    {
      "cell_type": "code",
      "source": [
        "## Feature Examination: Interaction Time\n",
        "\n",
        "plt.title('Distribution of Interaction time')\n",
        "plt.xlabel('Interaction Time (s)')\n",
        "plt.ylabel('Count')\n",
        "plt.hist(adX_train['InteractionTime'],range=(0,7));\n"
      ],
      "metadata": {
        "colab": {
          "base_uri": "https://localhost:8080/",
          "height": 295
        },
        "id": "RyMrM32YjpMI",
        "outputId": "f41d5a48-a58d-4ebe-a77b-3002777483a1"
      },
      "id": "RyMrM32YjpMI",
      "execution_count": 201,
      "outputs": [
        {
          "output_type": "display_data",
          "data": {
            "image/png": "[encoded data removed]",
            "text/plain": [
              "<Figure size 432x288 with 1 Axes>"
            ]
          },
          "metadata": {
            "needs_background": "light"
          }
        }
      ]
    },
    {
      "cell_type": "code",
      "source": [
        "## Feature Examination: Interaction Time\n",
        "## Classify the Interactin time to different time length categories\n",
        "data1 = adX_train['InteractionTime']\n",
        "itime = [0, 0.5, 1.5, 3, 15]\n",
        "\n",
        "\n",
        "Length_category = ['Short', 'Regualr', 'Long', 'Very Long']\n",
        "adX_train['InteractionLength'] = pd.cut(data1, bins=itime, labels=Length_category)\n",
        "adX_train['InteractionLength'].value_counts().plot(kind='bar');"
      ],
      "metadata": {
        "colab": {
          "base_uri": "https://localhost:8080/",
          "height": 305
        },
        "id": "wnUvEKTbksmw",
        "outputId": "d8e17af1-4feb-451f-f992-7679284085b7"
      },
      "id": "wnUvEKTbksmw",
      "execution_count": 202,
      "outputs": [
        {
          "output_type": "display_data",
          "data": {
            "image/png": "[encoded data removed]",
            "text/plain": [
              "<Figure size 432x288 with 1 Axes>"
            ]
          },
          "metadata": {
            "needs_background": "light"
          }
        }
      ]
    },
    {
      "cell_type": "code",
      "source": [
        "adX_train['Website'].value_counts()"
      ],
      "metadata": {
        "colab": {
          "base_uri": "https://localhost:8080/"
        },
        "id": "llqnBAxQjBQ5",
        "outputId": "58cbbf11-98b2-4ef7-d803-51a1c1054808"
      },
      "id": "llqnBAxQjBQ5",
      "execution_count": 203,
      "outputs": [
        {
          "output_type": "execute_result",
          "data": {
            "text/plain": [
              "Facebook         450077\n",
              "Other             73206\n",
              "Atedra            46233\n",
              "instagram.com     42077\n",
              "Craigslist.ca     29807\n",
              "Yahoo             25267\n",
              "TubeMogul         21408\n",
              "Twitter           15763\n",
              "Amazon            15411\n",
              "Sympatico          8559\n",
              "Kijiji             5889\n",
              "Expedia            5202\n",
              "Weather            3850\n",
              "Youtube            3849\n",
              "Wayfair            2985\n",
              "AOL                 417\n",
              "Name: Website, dtype: int64"
            ]
          },
          "metadata": {},
          "execution_count": 203
        }
      ]
    },
    {
      "cell_type": "code",
      "source": [
        "adX_train['Brand'].value_counts()"
      ],
      "metadata": {
        "colab": {
          "base_uri": "https://localhost:8080/"
        },
        "id": "avI3lD2ajTeN",
        "outputId": "8612980d-471e-4f44-e198-3e45764b47fd"
      },
      "id": "avI3lD2ajTeN",
      "execution_count": 204,
      "outputs": [
        {
          "output_type": "execute_result",
          "data": {
            "text/plain": [
              "Carter's                166821\n",
              "JoeFresh                143952\n",
              "Old Navy                112944\n",
              "Banana Republic          62914\n",
              "Disney                   62522\n",
              "Burberry                 62434\n",
              "gymboree                 52696\n",
              "Zara                     41675\n",
              "Gap                      23119\n",
              "The Children's Place     20923\n",
              "Name: Brand, dtype: int64"
            ]
          },
          "metadata": {},
          "execution_count": 204
        }
      ]
    },
    {
      "cell_type": "markdown",
      "source": [
        "# FEATURE ENGINEERING"
      ],
      "metadata": {
        "id": "a61RqGZnBVTX"
      },
      "id": "a61RqGZnBVTX"
    },
    {
      "cell_type": "code",
      "source": [
        "## Filling missing values\n",
        "ITmean = adX_train['InteractionTime'].mean() \n",
        "adX_train['InteractionTime'] = adX_train['InteractionTime'].fillna(ITmean)"
      ],
      "metadata": {
        "id": "jkN5A8wrobXG"
      },
      "id": "jkN5A8wrobXG",
      "execution_count": 205,
      "outputs": []
    },
    {
      "cell_type": "code",
      "source": [
        "## Datetime Engineering\n",
        "## Convert ActionTime to regular timestamp\n",
        "adX_train['ActionTime']=pd.to_datetime(adX_train['ActionTime'].astype('float64')/10**6, unit='s')"
      ],
      "metadata": {
        "id": "oTlk2N5qWM1Z"
      },
      "id": "oTlk2N5qWM1Z",
      "execution_count": 206,
      "outputs": []
    },
    {
      "cell_type": "code",
      "source": [
        "## Classify the ActionTime timestamp to different seasons of a year\n",
        "adX_train['month'] = pd.to_datetime(adX_train ['ActionTime']).dt.month\n",
        "season = [-1, 3.1, 6.1, 9.1, 12.1]\n",
        "## If the view action happen at 2:00 am, it is classified as late_night\n",
        "season_name = ['Spring', 'Summer', 'Fall', 'Winter']\n",
        "adX_train['Season'] = pd.cut(adX_train['month'], bins=season, labels=season_name)\n",
        "\n",
        "## Classify the ActionTime timestamp to different periods of a day\n",
        "adX_train['hr'] = pd.to_datetime(adX_train ['ActionTime']).dt.hour\n",
        "time = [-1, 2.1, 6.1, 9.1, 11.1, 19.1, 24]\n",
        "## If the view action happen at 2:00 am, it is classified as late_night\n",
        "time_name = ['late_night', 'early_morning', 'morning', 'noon', 'afternoon', 'evening']\n",
        "adX_train['Daysection'] = pd.cut(adX_train['hr'], bins=time, labels=time_name)\n",
        "\n",
        "\n",
        "## Classify the ActionTime timestamp to either a weekday or weekend\n",
        "def wd(a):\n",
        "    if a==5 or a==6:\n",
        "        b='weekend'\n",
        "    else:\n",
        "        b='weekday'\n",
        "    return b\n",
        "\n",
        "adX_train['Dayofweek'] = pd.to_datetime(adX_train ['ActionTime']).dt.dayofweek.apply(wd)\n",
        "\n"
      ],
      "metadata": {
        "id": "V7kzB69AN2gi"
      },
      "id": "V7kzB69AN2gi",
      "execution_count": 207,
      "outputs": []
    },
    {
      "cell_type": "code",
      "source": [
        "adX_test.shape"
      ],
      "metadata": {
        "colab": {
          "base_uri": "https://localhost:8080/"
        },
        "id": "ttivmMLJDa4t",
        "outputId": "a316cb26-1d4a-4b11-a354-75f01b6833a5"
      },
      "id": "ttivmMLJDa4t",
      "execution_count": 208,
      "outputs": [
        {
          "output_type": "execute_result",
          "data": {
            "text/plain": [
              "(250000, 7)"
            ]
          },
          "metadata": {},
          "execution_count": 208
        }
      ]
    },
    {
      "cell_type": "code",
      "source": [
        "adX_train.shape"
      ],
      "metadata": {
        "colab": {
          "base_uri": "https://localhost:8080/"
        },
        "id": "KYfRfghXVmM8",
        "outputId": "8bb0d8cb-2f42-403a-a650-76ab2d70fd1d"
      },
      "id": "KYfRfghXVmM8",
      "execution_count": 209,
      "outputs": [
        {
          "output_type": "execute_result",
          "data": {
            "text/plain": [
              "(750000, 14)"
            ]
          },
          "metadata": {},
          "execution_count": 209
        }
      ]
    },
    {
      "cell_type": "markdown",
      "source": [
        "# ODINAL FEATURE ENGINEERING"
      ],
      "metadata": {
        "id": "pXYwdWR68AwH"
      },
      "id": "pXYwdWR68AwH"
    },
    {
      "cell_type": "code",
      "source": [
        "## Engineering plan\n",
        "original_feature = ['InteractionTime']\n",
        "self_ordinal = ['ID','Website','Brand','colour','BannerSize']\n",
        "target_odinal = ['Website','Brand','colour','BannerSize', 'Season', 'Dayofweek', 'Daysection']"
      ],
      "metadata": {
        "id": "vDZXVzW3DvcE"
      },
      "id": "vDZXVzW3DvcE",
      "execution_count": 137,
      "outputs": []
    },
    {
      "cell_type": "code",
      "source": [
        "## Self odinal engineering\n",
        "X_train1 = adX_train.copy()\n",
        "y_train = ady_train.copy()\n",
        "for col in self_ordinal:\n",
        "  feature_name = col+'_prob'\n",
        "  prob = X_train1[col].value_counts(normalize=True).to_dict()\n",
        "  X_train1[feature_name] = X_train1[col].map(prob)\n",
        "\n",
        "X_train1 = X_train1.drop(columns=['ActionTime','SizeLabel','InteractionLength'])\n",
        "X_train1.shape"
      ],
      "metadata": {
        "colab": {
          "base_uri": "https://localhost:8080/"
        },
        "id": "cjdGhM2BAVCH",
        "outputId": "3520762f-d775-4b96-93dd-d93ea41f5b86"
      },
      "id": "cjdGhM2BAVCH",
      "execution_count": 217,
      "outputs": [
        {
          "output_type": "execute_result",
          "data": {
            "text/plain": [
              "(750000, 16)"
            ]
          },
          "metadata": {},
          "execution_count": 217
        }
      ]
    },
    {
      "cell_type": "code",
      "source": [
        "X_train1.columns"
      ],
      "metadata": {
        "colab": {
          "base_uri": "https://localhost:8080/"
        },
        "id": "NdE_AS5OEhBH",
        "outputId": "f60989a0-3655-4150-a822-881c83193730"
      },
      "id": "NdE_AS5OEhBH",
      "execution_count": 212,
      "outputs": [
        {
          "output_type": "execute_result",
          "data": {
            "text/plain": [
              "Index(['ID', 'Website', 'BannerSize', 'Brand', 'colour', 'InteractionTime',\n",
              "       'InteractionLength', 'month', 'Season', 'hr', 'Daysection', 'Dayofweek',\n",
              "       'ID_prob', 'Website_prob', 'Brand_prob', 'colour_prob',\n",
              "       'BannerSize_prob'],\n",
              "      dtype='object')"
            ]
          },
          "metadata": {},
          "execution_count": 212
        }
      ]
    },
    {
      "cell_type": "code",
      "source": [
        "## Target odinal engineering\n",
        "!pip install category_encoders\n",
        "from category_encoders.woe import WOEEncoder as woe\n"
      ],
      "metadata": {
        "colab": {
          "base_uri": "https://localhost:8080/"
        },
        "id": "WDI7QruW2mra",
        "outputId": "1a0b18ce-e43e-4a62-e145-532a27f45663"
      },
      "id": "WDI7QruW2mra",
      "execution_count": null,
      "outputs": [
        {
          "output_type": "stream",
          "name": "stdout",
          "text": [
            "Collecting category_encoders\n",
            "  Downloading category_encoders-2.3.0-py2.py3-none-any.whl (82 kB)\n",
            "\u001b[?25l\r\u001b[K     |████                            | 10 kB 18.9 MB/s eta 0:00:01\r\u001b[K     |████████                        | 20 kB 17.6 MB/s eta 0:00:01\r\u001b[K     |████████████                    | 30 kB 10.7 MB/s eta 0:00:01\r\u001b[K     |████████████████                | 40 kB 3.9 MB/s eta 0:00:01\r\u001b[K     |████████████████████            | 51 kB 3.9 MB/s eta 0:00:01\r\u001b[K     |████████████████████████        | 61 kB 4.6 MB/s eta 0:00:01\r\u001b[K     |████████████████████████████    | 71 kB 4.8 MB/s eta 0:00:01\r\u001b[K     |███████████████████████████████▉| 81 kB 5.3 MB/s eta 0:00:01\r\u001b[K     |████████████████████████████████| 82 kB 371 kB/s \n",
            "\u001b[?25hRequirement already satisfied: scipy>=1.0.0 in /usr/local/lib/python3.7/dist-packages (from category_encoders) (1.4.1)\n",
            "Requirement already satisfied: patsy>=0.5.1 in /usr/local/lib/python3.7/dist-packages (from category_encoders) (0.5.2)\n",
            "Requirement already satisfied: statsmodels>=0.9.0 in /usr/local/lib/python3.7/dist-packages (from category_encoders) (0.10.2)\n",
            "Requirement already satisfied: scikit-learn>=0.20.0 in /usr/local/lib/python3.7/dist-packages (from category_encoders) (1.0.2)\n",
            "Requirement already satisfied: numpy>=1.14.0 in /usr/local/lib/python3.7/dist-packages (from category_encoders) (1.21.5)\n",
            "Requirement already satisfied: pandas>=0.21.1 in /usr/local/lib/python3.7/dist-packages (from category_encoders) (1.3.5)\n",
            "Requirement already satisfied: python-dateutil>=2.7.3 in /usr/local/lib/python3.7/dist-packages (from pandas>=0.21.1->category_encoders) (2.8.2)\n",
            "Requirement already satisfied: pytz>=2017.3 in /usr/local/lib/python3.7/dist-packages (from pandas>=0.21.1->category_encoders) (2018.9)\n",
            "Requirement already satisfied: six in /usr/local/lib/python3.7/dist-packages (from patsy>=0.5.1->category_encoders) (1.15.0)\n",
            "Requirement already satisfied: joblib>=0.11 in /usr/local/lib/python3.7/dist-packages (from scikit-learn>=0.20.0->category_encoders) (1.1.0)\n",
            "Requirement already satisfied: threadpoolctl>=2.0.0 in /usr/local/lib/python3.7/dist-packages (from scikit-learn>=0.20.0->category_encoders) (3.1.0)\n",
            "Installing collected packages: category-encoders\n",
            "Successfully installed category-encoders-2.3.0\n"
          ]
        },
        {
          "output_type": "stream",
          "name": "stderr",
          "text": [
            "/usr/local/lib/python3.7/dist-packages/statsmodels/tools/_testing.py:19: FutureWarning: pandas.util.testing is deprecated. Use the functions in the public API at pandas.testing instead.\n",
            "  import pandas.util.testing as tm\n"
          ]
        }
      ]
    },
    {
      "cell_type": "code",
      "source": [
        "woe_encoder = woe(cols=target_odinal,regularization=0.00000000001)\n",
        "woe_encoder.fit(X_train1,y_train)\n",
        "X_transformed = woe_encoder.transform(X_train1)\n",
        "\n",
        "X_train = X_transformed.drop(columns=['ID','month','hr'])\n",
        "X_train.shape"
      ],
      "metadata": {
        "id": "Vv4CMeMy4Dk2",
        "colab": {
          "base_uri": "https://localhost:8080/"
        },
        "outputId": "fe38a378-76d8-4a21-aba4-7dac7e3697c2"
      },
      "id": "Vv4CMeMy4Dk2",
      "execution_count": 218,
      "outputs": [
        {
          "output_type": "execute_result",
          "data": {
            "text/plain": [
              "(750000, 13)"
            ]
          },
          "metadata": {},
          "execution_count": 218
        }
      ]
    },
    {
      "cell_type": "markdown",
      "source": [
        "# FEATURE SELECTION"
      ],
      "metadata": {
        "id": "zzVCZlK6uPrt"
      },
      "id": "zzVCZlK6uPrt"
    },
    {
      "cell_type": "code",
      "source": [
        "from sklearn.preprocessing import RobustScaler\n",
        "from sklearn.preprocessing import OneHotEncoder \n",
        "oh = OneHotEncoder() \n",
        "ros = RandomOverSampler(random_state=42,sampling_strategy=0.3)\n",
        "rs = RobustScaler(with_centering=False)\n",
        "\n",
        "model = LogisticRegression(penalty='l2',C=10,max_iter=100,class_weight = 'balanced')\n",
        "\n",
        "\n",
        "X_resembled,y_resembled = ros.fit_resample(X_train,y_train) ## oversampling\n",
        "\n",
        "y_lr = y_resembled\n",
        "X_lr = pd.DataFrame(rs.fit_transform(X_resembled),columns=X_resembled.columns) ## robust scaler\n",
        "\n",
        "\n",
        "\n",
        "model.fit(X_lr, y_lr)"
      ],
      "metadata": {
        "colab": {
          "base_uri": "https://localhost:8080/"
        },
        "id": "07LLB9QGxMKI",
        "outputId": "6e17b50c-2fb8-4dda-ddcb-3a5eff54baf1"
      },
      "id": "07LLB9QGxMKI",
      "execution_count": 61,
      "outputs": [
        {
          "output_type": "execute_result",
          "data": {
            "text/plain": [
              "LogisticRegression(C=10, class_weight='balanced')"
            ]
          },
          "metadata": {},
          "execution_count": 61
        }
      ]
    },
    {
      "cell_type": "code",
      "source": [
        "len(model.coef_[0])"
      ],
      "metadata": {
        "colab": {
          "base_uri": "https://localhost:8080/"
        },
        "id": "dwZZ3fXoyTIN",
        "outputId": "1c9c37b8-15ff-4e08-afe9-6d0bdd89f9ef"
      },
      "id": "dwZZ3fXoyTIN",
      "execution_count": 62,
      "outputs": [
        {
          "output_type": "execute_result",
          "data": {
            "text/plain": [
              "13"
            ]
          },
          "metadata": {},
          "execution_count": 62
        }
      ]
    },
    {
      "cell_type": "code",
      "source": [
        "importance = pd.Series(model.coef_[0],index=X_lr.columns)\n",
        "importance.plot(kind='bar');"
      ],
      "metadata": {
        "colab": {
          "base_uri": "https://localhost:8080/",
          "height": 339
        },
        "id": "Jf7cQU4rTVJH",
        "outputId": "e254cbaa-e4dc-4444-ccd1-67a161da5381"
      },
      "id": "Jf7cQU4rTVJH",
      "execution_count": 68,
      "outputs": [
        {
          "output_type": "display_data",
          "data": {
            "image/png": "[encoded data removed]",
            "text/plain": [
              "<Figure size 432x288 with 1 Axes>"
            ]
          },
          "metadata": {
            "needs_background": "light"
          }
        }
      ]
    },
    {
      "cell_type": "code",
      "source": [
        "X_resembled,y_resembled = ros.fit_resample(X_train,y_train) ## oversampling\n",
        "\n",
        "y_xg = y_resembled\n",
        "\n",
        "X_xg = pd.DataFrame(rs.fit_transform(X_resembled),columns=X_resembled.columns) ## robust scaler\n",
        "\n",
        "# Create a XGboost model\n",
        "from xgboost import XGBClassifier\n",
        "# Params from: https://www.kaggle.com/aharless/swetha-s-xgboost-revised\n",
        "clf_xgBoost = XGBClassifier(\n",
        "    max_depth = 4,\n",
        "    subsample = 0.8,\n",
        "    colsample_bytree = 0.7,\n",
        "    colsample_bylevel = 0.7,\n",
        "    scale_pos_weight = 9,\n",
        "    min_child_weight = 0,\n",
        "    reg_alpha = 4,\n",
        "    n_jobs = 4, \n",
        "    objective = 'binary:logistic'\n",
        ")\n",
        "# Fit the models\n",
        "clf_xgBoost.fit(X_xg, y_xg)"
      ],
      "metadata": {
        "colab": {
          "base_uri": "https://localhost:8080/"
        },
        "outputId": "f9a838f0-06ac-46c4-81ca-6cfbd08bc11d",
        "id": "-Z4usSPWMSA9"
      },
      "execution_count": 69,
      "outputs": [
        {
          "output_type": "execute_result",
          "data": {
            "text/plain": [
              "XGBClassifier(colsample_bylevel=0.7, colsample_bytree=0.7, max_depth=4,\n",
              "              min_child_weight=0, n_jobs=4, reg_alpha=4, scale_pos_weight=9,\n",
              "              subsample=0.8)"
            ]
          },
          "metadata": {},
          "execution_count": 69
        }
      ],
      "id": "-Z4usSPWMSA9"
    },
    {
      "cell_type": "code",
      "source": [
        "from sklearn import preprocessing\n",
        "\n",
        "# Get xgBoost importances\n",
        "importance_dict = {}\n",
        "for import_type in ['weight', 'gain', 'cover']:\n",
        "    importance_dict['xgBoost-'+import_type] = clf_xgBoost.get_booster().get_score(importance_type=import_type)\n",
        "    \n",
        "# MinMax scale all importances\n",
        "importance_df = pd.DataFrame(importance_dict).fillna(0)\n",
        "importance_df = pd.DataFrame(\n",
        "    preprocessing.MinMaxScaler().fit_transform(importance_df),\n",
        "    columns=importance_df.columns,\n",
        "    index=importance_df.index\n",
        ")\n",
        "\n",
        "# Create mean column\n",
        "importance_df['mean'] = importance_df.mean(axis=1)\n",
        "\n",
        "# Plot the feature importances\n",
        "importance_df.sort_values('mean').plot(kind='bar', figsize=(20, 7))"
      ],
      "metadata": {
        "colab": {
          "base_uri": "https://localhost:8080/",
          "height": 502
        },
        "id": "5wVwWAOZvED8",
        "outputId": "4f912a99-d4bb-4aa3-ea2c-b07a72a8868a"
      },
      "id": "5wVwWAOZvED8",
      "execution_count": 70,
      "outputs": [
        {
          "output_type": "execute_result",
          "data": {
            "text/plain": [
              "<matplotlib.axes._subplots.AxesSubplot at 0x7fedfed32390>"
            ]
          },
          "metadata": {},
          "execution_count": 70
        },
        {
          "output_type": "display_data",
          "data": {
            "image/png": "[encoded data removed]",
            "text/plain": [
              "<Figure size 1440x504 with 1 Axes>"
            ]
          },
          "metadata": {
            "needs_background": "light"
          }
        }
      ]
    },
    {
      "cell_type": "code",
      "source": [
        "\n"
      ],
      "metadata": {
        "id": "S6ARKjgyw5kB"
      },
      "id": "S6ARKjgyw5kB",
      "execution_count": null,
      "outputs": []
    },
    {
      "cell_type": "markdown",
      "source": [
        "# TEST SET TRANSFORMATION"
      ],
      "metadata": {
        "id": "X40umYa397cu"
      },
      "id": "X40umYa397cu"
    },
    {
      "cell_type": "code",
      "source": [
        "X_train.columns"
      ],
      "metadata": {
        "colab": {
          "base_uri": "https://localhost:8080/"
        },
        "id": "bGV_omxM7NYm",
        "outputId": "15442b07-5927-489e-8775-f4899dfc3879"
      },
      "id": "bGV_omxM7NYm",
      "execution_count": 182,
      "outputs": [
        {
          "output_type": "execute_result",
          "data": {
            "text/plain": [
              "Index(['Website', 'BannerSize', 'Brand', 'colour', 'InteractionTime', 'Season',\n",
              "       'Daysection', 'Dayofweek', 'ID_prob', 'Website_prob', 'Brand_prob',\n",
              "       'colour_prob', 'BannerSize_prob'],\n",
              "      dtype='object')"
            ]
          },
          "metadata": {},
          "execution_count": 182
        }
      ]
    },
    {
      "cell_type": "code",
      "source": [
        "\n",
        "def FeatureEngineering(X):\n",
        "    ## Classify the ActionTime timestamp to different seasons of a year\n",
        "    X['month'] = pd.to_datetime(X ['ActionTime']).dt.month\n",
        "    season = [-1, 3.1, 6.1, 9.1, 12.1]\n",
        "    ## If the view action happen at 2:00 am, it is classified as late_night\n",
        "    season_name = ['Spring', 'Summer', 'Fall', 'Winter']\n",
        "    X['Season'] = pd.cut(X['month'], bins=season, labels=season_name)\n",
        "\n",
        "    ## Classify the ActionTime timestamp to different periods of a day\n",
        "    X['hr'] = pd.to_datetime(X['ActionTime']).dt.hour\n",
        "    time = [-1, 2.1, 6.1, 9.1, 11.1, 19.1, 24]\n",
        "    ## If the view action happen at 2:00 am, it is classified as late_night\n",
        "    time_name = ['late_night', 'early_morning', 'morning', 'noon', 'afternoon', 'evening']\n",
        "    X['Daysection'] = pd.cut(X['hr'], bins=time, labels=time_name)\n",
        "\n",
        "\n",
        "    ## Classify the ActionTime timestamp to either a weekday or weekend\n",
        "    def wd(a):\n",
        "        if a==5 or a==6:\n",
        "            b='weekend'\n",
        "        else:\n",
        "            b='weekday'\n",
        "        return b\n",
        "\n",
        "    X['Dayofweek'] = pd.to_datetime(X['ActionTime']).dt.dayofweek.apply(wd)\n",
        "    \n",
        "    return X"
      ],
      "metadata": {
        "id": "7Wq6_8wbT5Qn"
      },
      "id": "7Wq6_8wbT5Qn",
      "execution_count": 183,
      "outputs": []
    },
    {
      "cell_type": "code",
      "source": [
        "X_test = FeatureEngineering(adX_test.copy()) \n",
        "\n",
        "X_test.columns"
      ],
      "metadata": {
        "colab": {
          "base_uri": "https://localhost:8080/"
        },
        "id": "gBh8JLMP84nf",
        "outputId": "bcf87724-1ee5-4293-9799-b932126e2840"
      },
      "execution_count": 213,
      "outputs": [
        {
          "output_type": "execute_result",
          "data": {
            "text/plain": [
              "Index(['ID', 'ActionTime', 'Website', 'BannerSize', 'Brand', 'colour',\n",
              "       'InteractionTime', 'month', 'Season', 'hr', 'Daysection', 'Dayofweek'],\n",
              "      dtype='object')"
            ]
          },
          "metadata": {},
          "execution_count": 213
        }
      ],
      "id": "gBh8JLMP84nf"
    },
    {
      "cell_type": "code",
      "source": [
        "## Engineering plan\n",
        "original_feature = ['InteractionTime']\n",
        "self_ordinal = ['ID','Website','Brand','colour','BannerSize']\n",
        "target_odinal = ['Website','Brand','colour','BannerSize','Season', 'Dayofweek', 'Daysection']"
      ],
      "metadata": {
        "id": "KRuacIs75tdf"
      },
      "execution_count": 83,
      "outputs": [],
      "id": "KRuacIs75tdf"
    },
    {
      "cell_type": "code",
      "source": [
        "## Self odinal engineering\n",
        "\n",
        "y_test = ady_test.copy()\n",
        "for col in self_ordinal:\n",
        "  feature_name = col+'_prob'\n",
        "  prob = X_test[col].value_counts(normalize=True).to_dict()\n",
        "  X_test[feature_name] = X_test[col].map(prob)\n",
        "X_test = X_test.drop(columns='ActionTime')\n",
        "X_test.shape"
      ],
      "metadata": {
        "colab": {
          "base_uri": "https://localhost:8080/"
        },
        "outputId": "242efa9d-b889-4cc2-c5d8-4b7ae7e53087",
        "id": "-aQfrjdh5tdl"
      },
      "execution_count": 214,
      "outputs": [
        {
          "output_type": "execute_result",
          "data": {
            "text/plain": [
              "(250000, 16)"
            ]
          },
          "metadata": {},
          "execution_count": 214
        }
      ],
      "id": "-aQfrjdh5tdl"
    },
    {
      "cell_type": "code",
      "source": [
        "X_train1.columns"
      ],
      "metadata": {
        "colab": {
          "base_uri": "https://localhost:8080/"
        },
        "id": "LKywxypwE5xZ",
        "outputId": "0c41cff2-e183-4033-80bf-7e1c03eb56fe"
      },
      "id": "LKywxypwE5xZ",
      "execution_count": 216,
      "outputs": [
        {
          "output_type": "execute_result",
          "data": {
            "text/plain": [
              "Index(['ID', 'Website', 'BannerSize', 'Brand', 'colour', 'InteractionTime',\n",
              "       'InteractionLength', 'month', 'Season', 'hr', 'Daysection', 'Dayofweek',\n",
              "       'ID_prob', 'Website_prob', 'Brand_prob', 'colour_prob',\n",
              "       'BannerSize_prob'],\n",
              "      dtype='object')"
            ]
          },
          "metadata": {},
          "execution_count": 216
        }
      ]
    },
    {
      "cell_type": "code",
      "source": [
        "X_test.columns"
      ],
      "metadata": {
        "colab": {
          "base_uri": "https://localhost:8080/"
        },
        "id": "BTLpFb4xE38I",
        "outputId": "fa76587a-4ef3-4741-ca35-2fe8a3d3d75f"
      },
      "id": "BTLpFb4xE38I",
      "execution_count": 215,
      "outputs": [
        {
          "output_type": "execute_result",
          "data": {
            "text/plain": [
              "Index(['ID', 'Website', 'BannerSize', 'Brand', 'colour', 'InteractionTime',\n",
              "       'month', 'Season', 'hr', 'Daysection', 'Dayofweek', 'ID_prob',\n",
              "       'Website_prob', 'Brand_prob', 'colour_prob', 'BannerSize_prob'],\n",
              "      dtype='object')"
            ]
          },
          "metadata": {},
          "execution_count": 215
        }
      ]
    },
    {
      "cell_type": "code",
      "source": [
        "woe_encoder = woe(cols=target_odinal,regularization=0.00000000001)\n",
        "woe_encoder.fit(X_train1,y_train)\n",
        "X_transformed = woe_encoder.transform(X_test)\n",
        "X_test = X_transformed.drop(columns=['ID','month','hr',])\n",
        "X_test.head()"
      ],
      "metadata": {
        "colab": {
          "base_uri": "https://localhost:8080/",
          "height": 319
        },
        "outputId": "9529f8b4-8dbc-4e31-db8b-27797f69f731",
        "id": "qu-SEtP05tdl"
      },
      "execution_count": 220,
      "outputs": [
        {
          "output_type": "execute_result",
          "data": {
            "text/html": [
              "\n",
              "  <div id=\"df-cd09428f-d88c-4eb2-bb48-3d6534c703c4\">\n",
              "    <div class=\"colab-df-container\">\n",
              "      <div>\n",
              "<style scoped>\n",
              "    .dataframe tbody tr th:only-of-type {\n",
              "        vertical-align: middle;\n",
              "    }\n",
              "\n",
              "    .dataframe tbody tr th {\n",
              "        vertical-align: top;\n",
              "    }\n",
              "\n",
              "    .dataframe thead th {\n",
              "        text-align: right;\n",
              "    }\n",
              "</style>\n",
              "<table border=\"1\" class=\"dataframe\">\n",
              "  <thead>\n",
              "    <tr style=\"text-align: right;\">\n",
              "      <th></th>\n",
              "      <th>Website</th>\n",
              "      <th>BannerSize</th>\n",
              "      <th>Brand</th>\n",
              "      <th>colour</th>\n",
              "      <th>InteractionTime</th>\n",
              "      <th>Season</th>\n",
              "      <th>Daysection</th>\n",
              "      <th>Dayofweek</th>\n",
              "      <th>ID_prob</th>\n",
              "      <th>Website_prob</th>\n",
              "      <th>Brand_prob</th>\n",
              "      <th>colour_prob</th>\n",
              "      <th>BannerSize_prob</th>\n",
              "    </tr>\n",
              "    <tr>\n",
              "      <th>Unnamed: 0</th>\n",
              "      <th></th>\n",
              "      <th></th>\n",
              "      <th></th>\n",
              "      <th></th>\n",
              "      <th></th>\n",
              "      <th></th>\n",
              "      <th></th>\n",
              "      <th></th>\n",
              "      <th></th>\n",
              "      <th></th>\n",
              "      <th></th>\n",
              "      <th></th>\n",
              "      <th></th>\n",
              "    </tr>\n",
              "  </thead>\n",
              "  <tbody>\n",
              "    <tr>\n",
              "      <th>426456</th>\n",
              "      <td>0.105216</td>\n",
              "      <td>0.0</td>\n",
              "      <td>0.100354</td>\n",
              "      <td>0.014882</td>\n",
              "      <td>3.847868</td>\n",
              "      <td>0.561852</td>\n",
              "      <td>0.296645</td>\n",
              "      <td>-0.514585</td>\n",
              "      <td>0.000060</td>\n",
              "      <td>0.600240</td>\n",
              "      <td>0.223256</td>\n",
              "      <td>0.160768</td>\n",
              "      <td>0.057392</td>\n",
              "    </tr>\n",
              "    <tr>\n",
              "      <th>758652</th>\n",
              "      <td>-0.719601</td>\n",
              "      <td>0.0</td>\n",
              "      <td>-0.422430</td>\n",
              "      <td>-0.047118</td>\n",
              "      <td>1.802634</td>\n",
              "      <td>0.561852</td>\n",
              "      <td>-0.723646</td>\n",
              "      <td>-0.514585</td>\n",
              "      <td>0.000032</td>\n",
              "      <td>0.055964</td>\n",
              "      <td>0.082732</td>\n",
              "      <td>0.139004</td>\n",
              "      <td>0.407536</td>\n",
              "    </tr>\n",
              "    <tr>\n",
              "      <th>27820</th>\n",
              "      <td>0.105216</td>\n",
              "      <td>0.0</td>\n",
              "      <td>0.100354</td>\n",
              "      <td>-0.052442</td>\n",
              "      <td>2.949029</td>\n",
              "      <td>0.561852</td>\n",
              "      <td>-0.038779</td>\n",
              "      <td>-0.514585</td>\n",
              "      <td>0.000032</td>\n",
              "      <td>0.600240</td>\n",
              "      <td>0.223256</td>\n",
              "      <td>0.183700</td>\n",
              "      <td>0.062244</td>\n",
              "    </tr>\n",
              "    <tr>\n",
              "      <th>664150</th>\n",
              "      <td>0.105216</td>\n",
              "      <td>0.0</td>\n",
              "      <td>0.319835</td>\n",
              "      <td>-0.237257</td>\n",
              "      <td>2.395143</td>\n",
              "      <td>0.561852</td>\n",
              "      <td>-0.723646</td>\n",
              "      <td>-0.514585</td>\n",
              "      <td>0.000064</td>\n",
              "      <td>0.600240</td>\n",
              "      <td>0.055616</td>\n",
              "      <td>0.055620</td>\n",
              "      <td>0.407536</td>\n",
              "    </tr>\n",
              "    <tr>\n",
              "      <th>208080</th>\n",
              "      <td>0.105216</td>\n",
              "      <td>0.0</td>\n",
              "      <td>-0.015476</td>\n",
              "      <td>0.014882</td>\n",
              "      <td>0.324221</td>\n",
              "      <td>0.561852</td>\n",
              "      <td>-0.723646</td>\n",
              "      <td>-0.514585</td>\n",
              "      <td>0.000032</td>\n",
              "      <td>0.600240</td>\n",
              "      <td>0.083648</td>\n",
              "      <td>0.160768</td>\n",
              "      <td>0.162648</td>\n",
              "    </tr>\n",
              "  </tbody>\n",
              "</table>\n",
              "</div>\n",
              "      <button class=\"colab-df-convert\" onclick=\"convertToInteractive('df-cd09428f-d88c-4eb2-bb48-3d6534c703c4')\"\n",
              "              title=\"Convert this dataframe to an interactive table.\"\n",
              "              style=\"display:none;\">\n",
              "        \n",
              "  <svg xmlns=\"http://www.w3.org/2000/svg\" height=\"24px\"viewBox=\"0 0 24 24\"\n",
              "       width=\"24px\">\n",
              "    <path d=\"M0 0h24v24H0V0z\" fill=\"none\"/>\n",
              "    <path d=\"M18.56 5.44l.94 2.06.94-2.06 2.06-.94-2.06-.94-.94-2.06-.94 2.06-2.06.94zm-11 1L8.5 8.5l.94-2.06 2.06-.94-2.06-.94L8.5 2.5l-.94 2.06-2.06.94zm10 10l.94 2.06.94-2.06 2.06-.94-2.06-.94-.94-2.06-.94 2.06-2.06.94z\"/><path d=\"M17.41 7.96l-1.37-1.37c-.4-.4-.92-.59-1.43-.59-.52 0-1.04.2-1.43.59L10.3 9.45l-7.72 7.72c-.78.78-.78 2.05 0 2.83L4 21.41c.39.39.9.59 1.41.59.51 0 1.02-.2 1.41-.59l7.78-7.78 2.81-2.81c.8-.78.8-2.07 0-2.86zM5.41 20L4 18.59l7.72-7.72 1.47 1.35L5.41 20z\"/>\n",
              "  </svg>\n",
              "      </button>\n",
              "      \n",
              "  <style>\n",
              "    .colab-df-container {\n",
              "      display:flex;\n",
              "      flex-wrap:wrap;\n",
              "      gap: 12px;\n",
              "    }\n",
              "\n",
              "    .colab-df-convert {\n",
              "      background-color: #E8F0FE;\n",
              "      border: none;\n",
              "      border-radius: 50%;\n",
              "      cursor: pointer;\n",
              "      display: none;\n",
              "      fill: #1967D2;\n",
              "      height: 32px;\n",
              "      padding: 0 0 0 0;\n",
              "      width: 32px;\n",
              "    }\n",
              "\n",
              "    .colab-df-convert:hover {\n",
              "      background-color: #E2EBFA;\n",
              "      box-shadow: 0px 1px 2px rgba(60, 64, 67, 0.3), 0px 1px 3px 1px rgba(60, 64, 67, 0.15);\n",
              "      fill: #174EA6;\n",
              "    }\n",
              "\n",
              "    [theme=dark] .colab-df-convert {\n",
              "      background-color: #3B4455;\n",
              "      fill: #D2E3FC;\n",
              "    }\n",
              "\n",
              "    [theme=dark] .colab-df-convert:hover {\n",
              "      background-color: #434B5C;\n",
              "      box-shadow: 0px 1px 3px 1px rgba(0, 0, 0, 0.15);\n",
              "      filter: drop-shadow(0px 1px 2px rgba(0, 0, 0, 0.3));\n",
              "      fill: #FFFFFF;\n",
              "    }\n",
              "  </style>\n",
              "\n",
              "      <script>\n",
              "        const buttonEl =\n",
              "          document.querySelector('#df-cd09428f-d88c-4eb2-bb48-3d6534c703c4 button.colab-df-convert');\n",
              "        buttonEl.style.display =\n",
              "          google.colab.kernel.accessAllowed ? 'block' : 'none';\n",
              "\n",
              "        async function convertToInteractive(key) {\n",
              "          const element = document.querySelector('#df-cd09428f-d88c-4eb2-bb48-3d6534c703c4');\n",
              "          const dataTable =\n",
              "            await google.colab.kernel.invokeFunction('convertToInteractive',\n",
              "                                                     [key], {});\n",
              "          if (!dataTable) return;\n",
              "\n",
              "          const docLinkHtml = 'Like what you see? Visit the ' +\n",
              "            '<a target=\"_blank\" href=https://colab.research.google.com/notebooks/data_table.ipynb>data table notebook</a>'\n",
              "            + ' to learn more about interactive tables.';\n",
              "          element.innerHTML = '';\n",
              "          dataTable['output_type'] = 'display_data';\n",
              "          await google.colab.output.renderOutput(dataTable, element);\n",
              "          const docLink = document.createElement('div');\n",
              "          docLink.innerHTML = docLinkHtml;\n",
              "          element.appendChild(docLink);\n",
              "        }\n",
              "      </script>\n",
              "    </div>\n",
              "  </div>\n",
              "  "
            ],
            "text/plain": [
              "             Website  BannerSize  ...  colour_prob  BannerSize_prob\n",
              "Unnamed: 0                        ...                              \n",
              "426456      0.105216         0.0  ...     0.160768         0.057392\n",
              "758652     -0.719601         0.0  ...     0.139004         0.407536\n",
              "27820       0.105216         0.0  ...     0.183700         0.062244\n",
              "664150      0.105216         0.0  ...     0.055620         0.407536\n",
              "208080      0.105216         0.0  ...     0.160768         0.162648\n",
              "\n",
              "[5 rows x 13 columns]"
            ]
          },
          "metadata": {},
          "execution_count": 220
        }
      ],
      "id": "qu-SEtP05tdl"
    },
    {
      "cell_type": "code",
      "source": [
        "X_train.info()"
      ],
      "metadata": {
        "colab": {
          "base_uri": "https://localhost:8080/"
        },
        "outputId": "daa8db66-0e1d-4ec5-9987-d327b4df6ef4",
        "id": "S-0upypY5tdl"
      },
      "execution_count": 230,
      "outputs": [
        {
          "output_type": "stream",
          "name": "stdout",
          "text": [
            "<class 'pandas.core.frame.DataFrame'>\n",
            "Int64Index: 750000 entries, 8552 to 704722\n",
            "Data columns (total 13 columns):\n",
            " #   Column           Non-Null Count   Dtype  \n",
            "---  ------           --------------   -----  \n",
            " 0   Website          750000 non-null  float64\n",
            " 1   BannerSize       750000 non-null  float64\n",
            " 2   Brand            750000 non-null  float64\n",
            " 3   colour           750000 non-null  float64\n",
            " 4   InteractionTime  750000 non-null  float64\n",
            " 5   Season           750000 non-null  float64\n",
            " 6   Daysection       750000 non-null  float64\n",
            " 7   Dayofweek        750000 non-null  float64\n",
            " 8   ID_prob          750000 non-null  float64\n",
            " 9   Website_prob     750000 non-null  float64\n",
            " 10  Brand_prob       750000 non-null  float64\n",
            " 11  colour_prob      750000 non-null  float64\n",
            " 12  BannerSize_prob  750000 non-null  float64\n",
            "dtypes: float64(13)\n",
            "memory usage: 80.1 MB\n"
          ]
        }
      ],
      "id": "S-0upypY5tdl"
    },
    {
      "cell_type": "code",
      "source": [
        "X_test = X_test.fillna(0)"
      ],
      "metadata": {
        "id": "G6e9FXJ5JJuT"
      },
      "id": "G6e9FXJ5JJuT",
      "execution_count": 231,
      "outputs": []
    },
    {
      "cell_type": "code",
      "source": [
        "\n",
        "## inputs and test sets\n",
        "[X_train.shape, X_test.shape, y_train.shape, y_test.shape]"
      ],
      "metadata": {
        "id": "S7YrU8SCT6Tt",
        "colab": {
          "base_uri": "https://localhost:8080/"
        },
        "outputId": "d3f553b5-4d8a-40b3-801f-998c80a0b63b"
      },
      "id": "S7YrU8SCT6Tt",
      "execution_count": 223,
      "outputs": [
        {
          "output_type": "execute_result",
          "data": {
            "text/plain": [
              "[(750000, 13), (250000, 13), (750000,), (250000,)]"
            ]
          },
          "metadata": {},
          "execution_count": 223
        }
      ]
    },
    {
      "cell_type": "markdown",
      "source": [
        "# MACHINE LERNING MODEL DEVELOPMENT"
      ],
      "metadata": {
        "id": "jS_NYPzknpuL"
      },
      "id": "jS_NYPzknpuL"
    },
    {
      "cell_type": "code",
      "source": [
        "## Use randomforest\n",
        "\n",
        "from sklearn.ensemble import RandomForestClassifier\n",
        "from sklearn.preprocessing import OneHotEncoder\n",
        "ros = RandomOverSampler(random_state=42)\n",
        "##X_resampled_click, y_resampled_click = ros.fit_resample(X_input_click, y_input_click)\n",
        "from sklearn.decomposition import PCA\n",
        "\n",
        "\n",
        "## use GridSearch to tune the hyperparameters\n",
        "pipe = Pipeline([\n",
        "    ##('OHE', OneHotEncoder()),\n",
        "      ##('Smote',SMOTE()),\n",
        "        ##('o', ros), \n",
        "     ##('u', RandomUnderSampler()),\n",
        "     ##('scaling', MaxAbsScaler()),\n",
        "     ##('scaling', RobustScaler()),\n",
        "     ('scaling', StandardScaler(with_mean=False)),\n",
        "    ##('simpleimputer', SimpleImputer()),\n",
        "    ##('DT', DecisionTreeClassifier())\n",
        "    ##('LR', LogisticRegression())\n",
        "    ##('PCA', PCA(0.9)),\n",
        "    ('rf', RandomForestClassifier())\n",
        "    \n",
        "        \n",
        "])\n",
        "\n",
        "parameters = {\n",
        "    ##'u__sampling_strategy':[0.8],\n",
        "    ##'clf__dt__max_depth':  [10, 20],\n",
        "    ##'clf__knn__n_neighbors': [5, 7],\n",
        "    ##'clf__lr__penalty':  ['l2'],\n",
        "    ##'clf__lr__C':  [20.0, 5.0, 1.0],\n",
        "    'rf__max_depth':  [10,20],\n",
        "    ##'clf__xgb__max_depth':  [3,5],\n",
        "    ##'LR__solver': ['newton-cg', 'lbfgs', 'liblinear', 'sag', 'saga' ]\n",
        "}\n",
        "\n",
        "\n",
        "gs = GridSearchCV(pipe, parameters, cv=3, scoring='f1', n_jobs=2, verbose=4)\n",
        "\n",
        "gs.fit(X_input, y_input)"
      ],
      "metadata": {
        "colab": {
          "base_uri": "https://localhost:8080/"
        },
        "id": "e3gD1ZaG34wr",
        "outputId": "27b170ae-c2eb-4e00-faac-332342ba34a3"
      },
      "id": "e3gD1ZaG34wr",
      "execution_count": null,
      "outputs": [
        {
          "output_type": "stream",
          "name": "stdout",
          "text": [
            "Fitting 3 folds for each of 2 candidates, totalling 6 fits\n"
          ]
        },
        {
          "output_type": "execute_result",
          "data": {
            "text/plain": [
              "GridSearchCV(cv=3,\n",
              "             estimator=Pipeline(steps=[('OHE', OneHotEncoder()),\n",
              "                                       ('u', RandomUnderSampler()),\n",
              "                                       ('rf', RandomForestClassifier())]),\n",
              "             n_jobs=2,\n",
              "             param_grid={'rf__max_depth': [10, 20],\n",
              "                         'u__sampling_strategy': [0.8]},\n",
              "             scoring='f1', verbose=4)"
            ]
          },
          "metadata": {},
          "execution_count": 34
        }
      ]
    },
    {
      "cell_type": "code",
      "execution_count": null,
      "id": "d75fae0f",
      "metadata": {
        "id": "d75fae0f"
      },
      "outputs": [],
      "source": [
        "from sklearn.ensemble import StackingClassifier\n",
        "from sklearn.ensemble import RandomForestClassifier\n",
        "from sklearn.neighbors import KNeighborsClassifier\n",
        "from xgboost import XGBClassifier\n",
        "\n",
        "\n",
        "estimators = [\n",
        "    ##('knn', KNeighborsClassifier(n_neighbors=5)),\n",
        "    ##('dt', DecisionTreeClassifier()),\n",
        "    ##('lr', LogisticRegression()),\n",
        "    ('rf', RandomForestClassifier()),\n",
        "    ('xgb', XGBClassifier(max_depth=3,min_child_weight=1.5))\n",
        "]\n",
        "\n",
        "clf = StackingClassifier(\n",
        "    estimators=estimators, final_estimator=LogisticRegression(penalty='l2',C=5)\n",
        ")"
      ]
    },
    {
      "cell_type": "code",
      "source": [
        ""
      ],
      "metadata": {
        "id": "iU1j_-hk33aN"
      },
      "id": "iU1j_-hk33aN",
      "execution_count": null,
      "outputs": []
    },
    {
      "cell_type": "code",
      "execution_count": null,
      "id": "7d8aa92e",
      "metadata": {
        "id": "7d8aa92e",
        "outputId": "68ecf337-0d94-4391-98bc-27b62ad24b2a",
        "colab": {
          "base_uri": "https://localhost:8080/",
          "height": 395
        }
      },
      "outputs": [
        {
          "output_type": "stream",
          "name": "stdout",
          "text": [
            "Fitting 3 folds for each of 24 candidates, totalling 72 fits\n"
          ]
        },
        {
          "output_type": "error",
          "ename": "KeyboardInterrupt",
          "evalue": "ignored",
          "traceback": [
            "\u001b[0;31m---------------------------------------------------------------------------\u001b[0m",
            "\u001b[0;31mKeyboardInterrupt\u001b[0m                         Traceback (most recent call last)",
            "\u001b[0;32m<ipython-input-50-e1b7ff8cc472>\u001b[0m in \u001b[0;36m<module>\u001b[0;34m()\u001b[0m\n\u001b[1;32m     36\u001b[0m \u001b[0mgs\u001b[0m \u001b[0;34m=\u001b[0m \u001b[0mGridSearchCV\u001b[0m\u001b[0;34m(\u001b[0m\u001b[0mpipe\u001b[0m\u001b[0;34m,\u001b[0m \u001b[0mparameters\u001b[0m\u001b[0;34m,\u001b[0m \u001b[0mcv\u001b[0m\u001b[0;34m=\u001b[0m\u001b[0;36m3\u001b[0m\u001b[0;34m,\u001b[0m \u001b[0mscoring\u001b[0m\u001b[0;34m=\u001b[0m\u001b[0;34m'f1'\u001b[0m\u001b[0;34m,\u001b[0m \u001b[0mn_jobs\u001b[0m\u001b[0;34m=\u001b[0m\u001b[0;36m2\u001b[0m\u001b[0;34m,\u001b[0m \u001b[0mverbose\u001b[0m\u001b[0;34m=\u001b[0m\u001b[0;36m4\u001b[0m\u001b[0;34m)\u001b[0m\u001b[0;34m\u001b[0m\u001b[0;34m\u001b[0m\u001b[0m\n\u001b[1;32m     37\u001b[0m \u001b[0;34m\u001b[0m\u001b[0m\n\u001b[0;32m---> 38\u001b[0;31m \u001b[0mgs\u001b[0m\u001b[0;34m.\u001b[0m\u001b[0mfit\u001b[0m\u001b[0;34m(\u001b[0m\u001b[0mX_input\u001b[0m\u001b[0;34m,\u001b[0m \u001b[0my_input\u001b[0m\u001b[0;34m)\u001b[0m\u001b[0;34m\u001b[0m\u001b[0;34m\u001b[0m\u001b[0m\n\u001b[0m\u001b[1;32m     39\u001b[0m \u001b[0;31m## not enough time to finish running this\u001b[0m\u001b[0;34m\u001b[0m\u001b[0;34m\u001b[0m\u001b[0;34m\u001b[0m\u001b[0m\n",
            "\u001b[0;32m/usr/local/lib/python3.7/dist-packages/sklearn/model_selection/_search.py\u001b[0m in \u001b[0;36mfit\u001b[0;34m(self, X, y, groups, **fit_params)\u001b[0m\n\u001b[1;32m    889\u001b[0m                 \u001b[0;32mreturn\u001b[0m \u001b[0mresults\u001b[0m\u001b[0;34m\u001b[0m\u001b[0;34m\u001b[0m\u001b[0m\n\u001b[1;32m    890\u001b[0m \u001b[0;34m\u001b[0m\u001b[0m\n\u001b[0;32m--> 891\u001b[0;31m             \u001b[0mself\u001b[0m\u001b[0;34m.\u001b[0m\u001b[0m_run_search\u001b[0m\u001b[0;34m(\u001b[0m\u001b[0mevaluate_candidates\u001b[0m\u001b[0;34m)\u001b[0m\u001b[0;34m\u001b[0m\u001b[0;34m\u001b[0m\u001b[0m\n\u001b[0m\u001b[1;32m    892\u001b[0m \u001b[0;34m\u001b[0m\u001b[0m\n\u001b[1;32m    893\u001b[0m             \u001b[0;31m# multimetric is determined here because in the case of a callable\u001b[0m\u001b[0;34m\u001b[0m\u001b[0;34m\u001b[0m\u001b[0;34m\u001b[0m\u001b[0m\n",
            "\u001b[0;32m/usr/local/lib/python3.7/dist-packages/sklearn/model_selection/_search.py\u001b[0m in \u001b[0;36m_run_search\u001b[0;34m(self, evaluate_candidates)\u001b[0m\n\u001b[1;32m   1390\u001b[0m     \u001b[0;32mdef\u001b[0m \u001b[0m_run_search\u001b[0m\u001b[0;34m(\u001b[0m\u001b[0mself\u001b[0m\u001b[0;34m,\u001b[0m \u001b[0mevaluate_candidates\u001b[0m\u001b[0;34m)\u001b[0m\u001b[0;34m:\u001b[0m\u001b[0;34m\u001b[0m\u001b[0;34m\u001b[0m\u001b[0m\n\u001b[1;32m   1391\u001b[0m         \u001b[0;34m\"\"\"Search all candidates in param_grid\"\"\"\u001b[0m\u001b[0;34m\u001b[0m\u001b[0;34m\u001b[0m\u001b[0m\n\u001b[0;32m-> 1392\u001b[0;31m         \u001b[0mevaluate_candidates\u001b[0m\u001b[0;34m(\u001b[0m\u001b[0mParameterGrid\u001b[0m\u001b[0;34m(\u001b[0m\u001b[0mself\u001b[0m\u001b[0;34m.\u001b[0m\u001b[0mparam_grid\u001b[0m\u001b[0;34m)\u001b[0m\u001b[0;34m)\u001b[0m\u001b[0;34m\u001b[0m\u001b[0;34m\u001b[0m\u001b[0m\n\u001b[0m\u001b[1;32m   1393\u001b[0m \u001b[0;34m\u001b[0m\u001b[0m\n\u001b[1;32m   1394\u001b[0m \u001b[0;34m\u001b[0m\u001b[0m\n",
            "\u001b[0;32m/usr/local/lib/python3.7/dist-packages/sklearn/model_selection/_search.py\u001b[0m in \u001b[0;36mevaluate_candidates\u001b[0;34m(candidate_params, cv, more_results)\u001b[0m\n\u001b[1;32m    849\u001b[0m                     )\n\u001b[1;32m    850\u001b[0m                     for (cand_idx, parameters), (split_idx, (train, test)) in product(\n\u001b[0;32m--> 851\u001b[0;31m                         \u001b[0menumerate\u001b[0m\u001b[0;34m(\u001b[0m\u001b[0mcandidate_params\u001b[0m\u001b[0;34m)\u001b[0m\u001b[0;34m,\u001b[0m \u001b[0menumerate\u001b[0m\u001b[0;34m(\u001b[0m\u001b[0mcv\u001b[0m\u001b[0;34m.\u001b[0m\u001b[0msplit\u001b[0m\u001b[0;34m(\u001b[0m\u001b[0mX\u001b[0m\u001b[0;34m,\u001b[0m \u001b[0my\u001b[0m\u001b[0;34m,\u001b[0m \u001b[0mgroups\u001b[0m\u001b[0;34m)\u001b[0m\u001b[0;34m)\u001b[0m\u001b[0;34m\u001b[0m\u001b[0;34m\u001b[0m\u001b[0m\n\u001b[0m\u001b[1;32m    852\u001b[0m                     )\n\u001b[1;32m    853\u001b[0m                 )\n",
            "\u001b[0;32m/usr/local/lib/python3.7/dist-packages/joblib/parallel.py\u001b[0m in \u001b[0;36m__call__\u001b[0;34m(self, iterable)\u001b[0m\n\u001b[1;32m   1054\u001b[0m \u001b[0;34m\u001b[0m\u001b[0m\n\u001b[1;32m   1055\u001b[0m             \u001b[0;32mwith\u001b[0m \u001b[0mself\u001b[0m\u001b[0;34m.\u001b[0m\u001b[0m_backend\u001b[0m\u001b[0;34m.\u001b[0m\u001b[0mretrieval_context\u001b[0m\u001b[0;34m(\u001b[0m\u001b[0;34m)\u001b[0m\u001b[0;34m:\u001b[0m\u001b[0;34m\u001b[0m\u001b[0;34m\u001b[0m\u001b[0m\n\u001b[0;32m-> 1056\u001b[0;31m                 \u001b[0mself\u001b[0m\u001b[0;34m.\u001b[0m\u001b[0mretrieve\u001b[0m\u001b[0;34m(\u001b[0m\u001b[0;34m)\u001b[0m\u001b[0;34m\u001b[0m\u001b[0;34m\u001b[0m\u001b[0m\n\u001b[0m\u001b[1;32m   1057\u001b[0m             \u001b[0;31m# Make sure that we get a last message telling us we are done\u001b[0m\u001b[0;34m\u001b[0m\u001b[0;34m\u001b[0m\u001b[0;34m\u001b[0m\u001b[0m\n\u001b[1;32m   1058\u001b[0m             \u001b[0melapsed_time\u001b[0m \u001b[0;34m=\u001b[0m \u001b[0mtime\u001b[0m\u001b[0;34m.\u001b[0m\u001b[0mtime\u001b[0m\u001b[0;34m(\u001b[0m\u001b[0;34m)\u001b[0m \u001b[0;34m-\u001b[0m \u001b[0mself\u001b[0m\u001b[0;34m.\u001b[0m\u001b[0m_start_time\u001b[0m\u001b[0;34m\u001b[0m\u001b[0;34m\u001b[0m\u001b[0m\n",
            "\u001b[0;32m/usr/local/lib/python3.7/dist-packages/joblib/parallel.py\u001b[0m in \u001b[0;36mretrieve\u001b[0;34m(self)\u001b[0m\n\u001b[1;32m    933\u001b[0m             \u001b[0;32mtry\u001b[0m\u001b[0;34m:\u001b[0m\u001b[0;34m\u001b[0m\u001b[0;34m\u001b[0m\u001b[0m\n\u001b[1;32m    934\u001b[0m                 \u001b[0;32mif\u001b[0m \u001b[0mgetattr\u001b[0m\u001b[0;34m(\u001b[0m\u001b[0mself\u001b[0m\u001b[0;34m.\u001b[0m\u001b[0m_backend\u001b[0m\u001b[0;34m,\u001b[0m \u001b[0;34m'supports_timeout'\u001b[0m\u001b[0;34m,\u001b[0m \u001b[0;32mFalse\u001b[0m\u001b[0;34m)\u001b[0m\u001b[0;34m:\u001b[0m\u001b[0;34m\u001b[0m\u001b[0;34m\u001b[0m\u001b[0m\n\u001b[0;32m--> 935\u001b[0;31m                     \u001b[0mself\u001b[0m\u001b[0;34m.\u001b[0m\u001b[0m_output\u001b[0m\u001b[0;34m.\u001b[0m\u001b[0mextend\u001b[0m\u001b[0;34m(\u001b[0m\u001b[0mjob\u001b[0m\u001b[0;34m.\u001b[0m\u001b[0mget\u001b[0m\u001b[0;34m(\u001b[0m\u001b[0mtimeout\u001b[0m\u001b[0;34m=\u001b[0m\u001b[0mself\u001b[0m\u001b[0;34m.\u001b[0m\u001b[0mtimeout\u001b[0m\u001b[0;34m)\u001b[0m\u001b[0;34m)\u001b[0m\u001b[0;34m\u001b[0m\u001b[0;34m\u001b[0m\u001b[0m\n\u001b[0m\u001b[1;32m    936\u001b[0m                 \u001b[0;32melse\u001b[0m\u001b[0;34m:\u001b[0m\u001b[0;34m\u001b[0m\u001b[0;34m\u001b[0m\u001b[0m\n\u001b[1;32m    937\u001b[0m                     \u001b[0mself\u001b[0m\u001b[0;34m.\u001b[0m\u001b[0m_output\u001b[0m\u001b[0;34m.\u001b[0m\u001b[0mextend\u001b[0m\u001b[0;34m(\u001b[0m\u001b[0mjob\u001b[0m\u001b[0;34m.\u001b[0m\u001b[0mget\u001b[0m\u001b[0;34m(\u001b[0m\u001b[0;34m)\u001b[0m\u001b[0;34m)\u001b[0m\u001b[0;34m\u001b[0m\u001b[0;34m\u001b[0m\u001b[0m\n",
            "\u001b[0;32m/usr/local/lib/python3.7/dist-packages/joblib/_parallel_backends.py\u001b[0m in \u001b[0;36mwrap_future_result\u001b[0;34m(future, timeout)\u001b[0m\n\u001b[1;32m    540\u001b[0m         AsyncResults.get from multiprocessing.\"\"\"\n\u001b[1;32m    541\u001b[0m         \u001b[0;32mtry\u001b[0m\u001b[0;34m:\u001b[0m\u001b[0;34m\u001b[0m\u001b[0;34m\u001b[0m\u001b[0m\n\u001b[0;32m--> 542\u001b[0;31m             \u001b[0;32mreturn\u001b[0m \u001b[0mfuture\u001b[0m\u001b[0;34m.\u001b[0m\u001b[0mresult\u001b[0m\u001b[0;34m(\u001b[0m\u001b[0mtimeout\u001b[0m\u001b[0;34m=\u001b[0m\u001b[0mtimeout\u001b[0m\u001b[0;34m)\u001b[0m\u001b[0;34m\u001b[0m\u001b[0;34m\u001b[0m\u001b[0m\n\u001b[0m\u001b[1;32m    543\u001b[0m         \u001b[0;32mexcept\u001b[0m \u001b[0mCfTimeoutError\u001b[0m \u001b[0;32mas\u001b[0m \u001b[0me\u001b[0m\u001b[0;34m:\u001b[0m\u001b[0;34m\u001b[0m\u001b[0;34m\u001b[0m\u001b[0m\n\u001b[1;32m    544\u001b[0m             \u001b[0;32mraise\u001b[0m \u001b[0mTimeoutError\u001b[0m \u001b[0;32mfrom\u001b[0m \u001b[0me\u001b[0m\u001b[0;34m\u001b[0m\u001b[0;34m\u001b[0m\u001b[0m\n",
            "\u001b[0;32m/usr/lib/python3.7/concurrent/futures/_base.py\u001b[0m in \u001b[0;36mresult\u001b[0;34m(self, timeout)\u001b[0m\n\u001b[1;32m    428\u001b[0m                 \u001b[0;32mreturn\u001b[0m \u001b[0mself\u001b[0m\u001b[0;34m.\u001b[0m\u001b[0m__get_result\u001b[0m\u001b[0;34m(\u001b[0m\u001b[0;34m)\u001b[0m\u001b[0;34m\u001b[0m\u001b[0;34m\u001b[0m\u001b[0m\n\u001b[1;32m    429\u001b[0m \u001b[0;34m\u001b[0m\u001b[0m\n\u001b[0;32m--> 430\u001b[0;31m             \u001b[0mself\u001b[0m\u001b[0;34m.\u001b[0m\u001b[0m_condition\u001b[0m\u001b[0;34m.\u001b[0m\u001b[0mwait\u001b[0m\u001b[0;34m(\u001b[0m\u001b[0mtimeout\u001b[0m\u001b[0;34m)\u001b[0m\u001b[0;34m\u001b[0m\u001b[0;34m\u001b[0m\u001b[0m\n\u001b[0m\u001b[1;32m    431\u001b[0m \u001b[0;34m\u001b[0m\u001b[0m\n\u001b[1;32m    432\u001b[0m             \u001b[0;32mif\u001b[0m \u001b[0mself\u001b[0m\u001b[0;34m.\u001b[0m\u001b[0m_state\u001b[0m \u001b[0;32min\u001b[0m \u001b[0;34m[\u001b[0m\u001b[0mCANCELLED\u001b[0m\u001b[0;34m,\u001b[0m \u001b[0mCANCELLED_AND_NOTIFIED\u001b[0m\u001b[0;34m]\u001b[0m\u001b[0;34m:\u001b[0m\u001b[0;34m\u001b[0m\u001b[0;34m\u001b[0m\u001b[0m\n",
            "\u001b[0;32m/usr/lib/python3.7/threading.py\u001b[0m in \u001b[0;36mwait\u001b[0;34m(self, timeout)\u001b[0m\n\u001b[1;32m    294\u001b[0m         \u001b[0;32mtry\u001b[0m\u001b[0;34m:\u001b[0m    \u001b[0;31m# restore state no matter what (e.g., KeyboardInterrupt)\u001b[0m\u001b[0;34m\u001b[0m\u001b[0;34m\u001b[0m\u001b[0m\n\u001b[1;32m    295\u001b[0m             \u001b[0;32mif\u001b[0m \u001b[0mtimeout\u001b[0m \u001b[0;32mis\u001b[0m \u001b[0;32mNone\u001b[0m\u001b[0;34m:\u001b[0m\u001b[0;34m\u001b[0m\u001b[0;34m\u001b[0m\u001b[0m\n\u001b[0;32m--> 296\u001b[0;31m                 \u001b[0mwaiter\u001b[0m\u001b[0;34m.\u001b[0m\u001b[0macquire\u001b[0m\u001b[0;34m(\u001b[0m\u001b[0;34m)\u001b[0m\u001b[0;34m\u001b[0m\u001b[0;34m\u001b[0m\u001b[0m\n\u001b[0m\u001b[1;32m    297\u001b[0m                 \u001b[0mgotit\u001b[0m \u001b[0;34m=\u001b[0m \u001b[0;32mTrue\u001b[0m\u001b[0;34m\u001b[0m\u001b[0;34m\u001b[0m\u001b[0m\n\u001b[1;32m    298\u001b[0m             \u001b[0;32melse\u001b[0m\u001b[0;34m:\u001b[0m\u001b[0;34m\u001b[0m\u001b[0;34m\u001b[0m\u001b[0m\n",
            "\u001b[0;31mKeyboardInterrupt\u001b[0m: "
          ]
        }
      ],
      "source": [
        "from sklearn.preprocessing import OneHotEncoder\n",
        "ros = RandomOverSampler(random_state=42)\n",
        "##X_resampled_click, y_resampled_click = ros.fit_resample(X_input_click, y_input_click)\n",
        "from sklearn.decomposition import PCA\n",
        "from sklearn.preprocessing import MaxAbsScaler\n",
        "## use GridSearch to tune the hyperparameters\n",
        "pipe = Pipeline([\n",
        "    ('OHE', OneHotEncoder()),\n",
        "      ##('Smote',SMOTE()),\n",
        "        ##('o', ros), \n",
        "        ('u', RandomUnderSampler()),\n",
        "     ('scaling', MaxAbsScaler()),\n",
        "     ##('scaling', RobustScaler()),\n",
        "     ##('scaling', StandardScaler(with_mean=False)),\n",
        "    ##('simpleimputer', SimpleImputer()),\n",
        "    ##('DT', DecisionTreeClassifier())\n",
        "    ##('LR', LogisticRegression())\n",
        "    ##('PCA', PCA(0.9)),\n",
        "    ('clf', clf)\n",
        "    \n",
        "        \n",
        "])\n",
        "\n",
        "parameters = {\n",
        "    'u__sampling_strategy':[0.8,0.5,0.3],\n",
        "    ##'clf__dt__max_depth':  [10, 20],\n",
        "    ##'clf__knn__n_neighbors': [5, 7],\n",
        "    ##'clf__lr__penalty':  ['l2'],\n",
        "    ##'clf__lr__C':  [20.0, 5.0, 1.0],\n",
        "    'clf__rf__max_depth':  [10,20,30,50],\n",
        "    'clf__xgb__max_depth':  [3,5],\n",
        "    ##'LR__solver': ['newton-cg', 'lbfgs', 'liblinear', 'sag', 'saga' ]\n",
        "}\n",
        "\n",
        "\n",
        "gs = GridSearchCV(pipe, parameters, cv=3, scoring='f1', n_jobs=2, verbose=4)\n",
        "\n",
        "gs.fit(X_input, y_input)\n",
        "## not enough time to finish running this"
      ]
    },
    {
      "cell_type": "code",
      "source": [
        "from sklearn.preprocessing import OneHotEncoder\n",
        "ros = RandomOverSampler(random_state=42,sampling_strategy=0.3)\n",
        "##X_resampled_click, y_resampled_click = ros.fit_resample(X_input_click, y_input_click)\n",
        "##from sklearn.decomposition import PCA\n",
        "\n",
        "## use GridSearch to tune the hyperparameters\n",
        "pipe = Pipeline([\n",
        "      ##('OHE', OneHotEncoder()),\n",
        "      ##('Smote',SMOTE()),\n",
        "       ('o', ros), \n",
        "        ##('u', rus),\n",
        "     ## ('scaling', MaxAbsScaler()),\n",
        "     ('scaling', RobustScaler(with_centering=False)),\n",
        "     ##('scaling', StandardScaler()),\n",
        "    ##('simpleimputer', SimpleImputer()),\n",
        "    ##('DT', DecisionTreeClassifier())\n",
        "    ##('LR', LogisticRegression())\n",
        "    ##('PCA', PCA(0.9)),\n",
        "    ('lr', LogisticRegression(class_weight = 'balanced'))\n",
        "    \n",
        "        \n",
        "])\n",
        "\n",
        "parameters = {\n",
        "    ##'o__sampling_strategy':[0.8],\n",
        "    ##'clf__dt__max_depth':  [10, 20],\n",
        "    ##'clf__knn__n_neighbors': [5, 7],\n",
        "    'lr__penalty':  ['l2'],\n",
        "    'lr__C':  [1,5.0,10],\n",
        "    'lr__max_iter':[50,60,70,80,100]\n",
        "}\n",
        "\n",
        "\n",
        "gs = GridSearchCV(pipe, parameters, cv=10, scoring='f1', n_jobs=-1, verbose=4)\n",
        "\n",
        "gs.fit(X_train, y_train)"
      ],
      "metadata": {
        "colab": {
          "base_uri": "https://localhost:8080/"
        },
        "id": "AR8RCoADEFns",
        "outputId": "c7b6ccbc-98b9-4136-e0b6-ac55134c86a3"
      },
      "id": "AR8RCoADEFns",
      "execution_count": 224,
      "outputs": [
        {
          "output_type": "stream",
          "name": "stdout",
          "text": [
            "Fitting 10 folds for each of 15 candidates, totalling 150 fits\n"
          ]
        },
        {
          "output_type": "execute_result",
          "data": {
            "text/plain": [
              "GridSearchCV(cv=10,\n",
              "             estimator=Pipeline(steps=[('o',\n",
              "                                        RandomOverSampler(random_state=42,\n",
              "                                                          sampling_strategy=0.3)),\n",
              "                                       ('scaling',\n",
              "                                        RobustScaler(with_centering=False)),\n",
              "                                       ('lr',\n",
              "                                        LogisticRegression(class_weight='balanced'))]),\n",
              "             n_jobs=-1,\n",
              "             param_grid={'lr__C': [1, 5.0, 10],\n",
              "                         'lr__max_iter': [50, 60, 70, 80, 100],\n",
              "                         'lr__penalty': ['l2']},\n",
              "             scoring='f1', verbose=4)"
            ]
          },
          "metadata": {},
          "execution_count": 224
        }
      ]
    },
    {
      "cell_type": "code",
      "execution_count": 225,
      "id": "ce1ffd26",
      "metadata": {
        "id": "ce1ffd26",
        "colab": {
          "base_uri": "https://localhost:8080/"
        },
        "outputId": "aa7cfd48-02bd-4a41-b062-0dd0b4795ce0"
      },
      "outputs": [
        {
          "output_type": "execute_result",
          "data": {
            "text/plain": [
              "{'lr__C': 1, 'lr__max_iter': 50, 'lr__penalty': 'l2'}"
            ]
          },
          "metadata": {},
          "execution_count": 225
        }
      ],
      "source": [
        "gs.best_params_\n",
        "\n"
      ]
    },
    {
      "cell_type": "code",
      "execution_count": 226,
      "id": "a00ab6a0",
      "metadata": {
        "id": "a00ab6a0"
      },
      "outputs": [],
      "source": [
        "best_model = gs.best_estimator_\n"
      ]
    },
    {
      "cell_type": "code",
      "source": [
        "#define a default treshold 0.5 probability for identification\n",
        "def treshold(pred):\n",
        "    if pred <= 0.5:\n",
        "        return 0\n",
        "    else:\n",
        "        return 1\n",
        "\n",
        "## develop a function which evaluates the model using  4 different matrices\n",
        "def assess_model(model):\n",
        "    predictions = model.predict(X_test)\n",
        "    accuracy = accuracy_score(y_test, predictions)\n",
        "    print('Accuracy: %f' % accuracy)\n",
        "    print()\n",
        "    f1 = f1_score(y_test, predictions)\n",
        "    print('F1 score: %f' % f1)\n",
        "    print()\n",
        "    precision = precision_score(y_test, predictions)\n",
        "    print('Precision_score : %f' % precision)\n",
        "    print()\n",
        "    recall = recall_score(y_test, predictions)\n",
        "    print('Recall_score: %f' % recall)\n",
        "    print()\n",
        "    print('Confusion matrix')\n",
        "    cm = confusion_matrix(y_true=y_test, y_pred=predictions)\n",
        "    print(cm)"
      ],
      "metadata": {
        "id": "NKmY4uhk_9QG"
      },
      "id": "NKmY4uhk_9QG",
      "execution_count": 227,
      "outputs": []
    },
    {
      "cell_type": "code",
      "source": [
        "y_test.value_counts()"
      ],
      "metadata": {
        "colab": {
          "base_uri": "https://localhost:8080/"
        },
        "id": "Wopdoj7oGy7_",
        "outputId": "cee54ac9-d957-4645-cb72-3e407a922243"
      },
      "id": "Wopdoj7oGy7_",
      "execution_count": null,
      "outputs": [
        {
          "output_type": "execute_result",
          "data": {
            "text/plain": [
              "0    249949\n",
              "1        51\n",
              "Name: Action, dtype: int64"
            ]
          },
          "metadata": {},
          "execution_count": 175
        }
      ]
    },
    {
      "cell_type": "code",
      "source": [
        "pd.Series(best_model.predict(X_test)).value_counts()"
      ],
      "metadata": {
        "colab": {
          "base_uri": "https://localhost:8080/"
        },
        "id": "KvoDQkMgC5N3",
        "outputId": "744ab4fa-8916-4b49-d416-e47cd4161339"
      },
      "id": "KvoDQkMgC5N3",
      "execution_count": 233,
      "outputs": [
        {
          "output_type": "execute_result",
          "data": {
            "text/plain": [
              "0    178533\n",
              "1     71467\n",
              "dtype: int64"
            ]
          },
          "metadata": {},
          "execution_count": 233
        }
      ]
    },
    {
      "cell_type": "code",
      "source": [
        "assess_model(best_model)"
      ],
      "metadata": {
        "colab": {
          "base_uri": "https://localhost:8080/"
        },
        "id": "QYzdNXkgAFHO",
        "outputId": "d36d1194-8ffc-4ec4-a2d7-4330e86f6665"
      },
      "id": "QYzdNXkgAFHO",
      "execution_count": 232,
      "outputs": [
        {
          "output_type": "stream",
          "name": "stdout",
          "text": [
            "Accuracy: 0.714192\n",
            "\n",
            "F1 score: 0.001063\n",
            "\n",
            "Precision_score : 0.000532\n",
            "\n",
            "Recall_score: 0.622951\n",
            "\n",
            "Confusion matrix\n",
            "[[178510  71429]\n",
            " [    23     38]]\n"
          ]
        }
      ]
    },
    {
      "cell_type": "code",
      "source": [
        "X_test.info()"
      ],
      "metadata": {
        "colab": {
          "base_uri": "https://localhost:8080/"
        },
        "id": "yNcUP7kQI8KM",
        "outputId": "27412c2b-490d-4158-9361-7003fd6382b1"
      },
      "id": "yNcUP7kQI8KM",
      "execution_count": 229,
      "outputs": [
        {
          "output_type": "stream",
          "name": "stdout",
          "text": [
            "<class 'pandas.core.frame.DataFrame'>\n",
            "Int64Index: 250000 entries, 426456 to 702679\n",
            "Data columns (total 13 columns):\n",
            " #   Column           Non-Null Count   Dtype  \n",
            "---  ------           --------------   -----  \n",
            " 0   Website          250000 non-null  float64\n",
            " 1   BannerSize       250000 non-null  float64\n",
            " 2   Brand            250000 non-null  float64\n",
            " 3   colour           250000 non-null  float64\n",
            " 4   InteractionTime  249999 non-null  float64\n",
            " 5   Season           250000 non-null  float64\n",
            " 6   Daysection       250000 non-null  float64\n",
            " 7   Dayofweek        250000 non-null  float64\n",
            " 8   ID_prob          250000 non-null  float64\n",
            " 9   Website_prob     250000 non-null  float64\n",
            " 10  Brand_prob       250000 non-null  float64\n",
            " 11  colour_prob      250000 non-null  float64\n",
            " 12  BannerSize_prob  250000 non-null  float64\n",
            "dtypes: float64(13)\n",
            "memory usage: 26.7 MB\n"
          ]
        }
      ]
    }
  ],
  "metadata": {
    "kernelspec": {
      "display_name": "Python 3",
      "language": "python",
      "name": "python3"
    },
    "language_info": {
      "codemirror_mode": {
        "name": "ipython",
        "version": 3
      },
      "file_extension": ".py",
      "mimetype": "text/x-python",
      "name": "python",
      "nbconvert_exporter": "python",
      "pygments_lexer": "ipython3",
      "version": "3.8.8"
    },
    "colab": {
      "name": "CTR ordinal approach 2.ipynb",
      "provenance": [],
      "collapsed_sections": [],
      "toc_visible": true
    }
  },
  "nbformat": 4,
  "nbformat_minor": 5
}
